{
  "nbformat": 4,
  "nbformat_minor": 0,
  "metadata": {
    "colab": {
      "name": "DIAT_CNN_Labs.ipynb",
      "provenance": [],
      "collapsed_sections": [],
      "authorship_tag": "ABX9TyMvmDLCIF5P1SAYVOI1uzoa",
      "include_colab_link": true
    },
    "kernelspec": {
      "name": "python3",
      "display_name": "Python 3"
    },
    "language_info": {
      "name": "python"
    }
  },
  "cells": [
    {
      "cell_type": "markdown",
      "metadata": {
        "id": "view-in-github",
        "colab_type": "text"
      },
      "source": [
        "<a href=\"https://colab.research.google.com/github/vinayex2/courses/blob/master/DIAT_CNN_Labs.ipynb\" target=\"_parent\"><img src=\"https://colab.research.google.com/assets/colab-badge.svg\" alt=\"Open In Colab\"/></a>"
      ]
    },
    {
      "cell_type": "code",
      "metadata": {
        "id": "QgSBm9VAkrU5"
      },
      "source": [
        "import tensorflow as tf\n",
        "\n",
        "import numpy as np\n",
        "import matplotlib.pyplot as plt"
      ],
      "execution_count": 4,
      "outputs": []
    },
    {
      "cell_type": "code",
      "metadata": {
        "colab": {
          "base_uri": "https://localhost:8080/"
        },
        "id": "-VXA_HX0k3zD",
        "outputId": "50f6366d-b7ea-4555-f67a-cbc1fb59babb"
      },
      "source": [
        "(x_train,y_train), (x_test, y_test) = tf.keras.datasets.fashion_mnist.load_data()"
      ],
      "execution_count": 3,
      "outputs": [
        {
          "output_type": "stream",
          "text": [
            "Downloading data from https://storage.googleapis.com/tensorflow/tf-keras-datasets/train-labels-idx1-ubyte.gz\n",
            "32768/29515 [=================================] - 0s 0us/step\n",
            "Downloading data from https://storage.googleapis.com/tensorflow/tf-keras-datasets/train-images-idx3-ubyte.gz\n",
            "26427392/26421880 [==============================] - 0s 0us/step\n",
            "Downloading data from https://storage.googleapis.com/tensorflow/tf-keras-datasets/t10k-labels-idx1-ubyte.gz\n",
            "8192/5148 [===============================================] - 0s 0us/step\n",
            "Downloading data from https://storage.googleapis.com/tensorflow/tf-keras-datasets/t10k-images-idx3-ubyte.gz\n",
            "4423680/4422102 [==============================] - 0s 0us/step\n"
          ],
          "name": "stdout"
        }
      ]
    },
    {
      "cell_type": "code",
      "metadata": {
        "colab": {
          "base_uri": "https://localhost:8080/"
        },
        "id": "RZxqg568lSz7",
        "outputId": "28448662-bbd2-4a62-bc39-75a5bda18ea9"
      },
      "source": [
        "print(f'Train Shape {x_train.shape} and Y Shape is {y_train.shape}')"
      ],
      "execution_count": 4,
      "outputs": [
        {
          "output_type": "stream",
          "text": [
            "Train Shape (60000, 28, 28) and Y Shape is (60000,)\n"
          ],
          "name": "stdout"
        }
      ]
    },
    {
      "cell_type": "code",
      "metadata": {
        "colab": {
          "base_uri": "https://localhost:8080/",
          "height": 282
        },
        "id": "p-_Uww_wlgna",
        "outputId": "0a67d812-7d3a-45db-8972-4101a2e15aca"
      },
      "source": [
        "plt.imshow(x_train[1,:,:])"
      ],
      "execution_count": 6,
      "outputs": [
        {
          "output_type": "execute_result",
          "data": {
            "text/plain": [
              "<matplotlib.image.AxesImage at 0x7fb31b7bc410>"
            ]
          },
          "metadata": {
            "tags": []
          },
          "execution_count": 6
        },
        {
          "output_type": "display_data",
          "data": {
            "image/png": "[encoded data removed]",
            "text/plain": [
              "<Figure size 432x288 with 1 Axes>"
            ]
          },
          "metadata": {
            "tags": [],
            "needs_background": "light"
          }
        }
      ]
    },
    {
      "cell_type": "code",
      "metadata": {
        "id": "4qqVJTVul08-"
      },
      "source": [
        "fashion_mnist_labels = [\n",
        "                        't-shirt/top',\n",
        "                        'trouser',\n",
        "                        'pullover',\n",
        "                        'dress',\n",
        "                        'coat',\n",
        "                        'sandal',\n",
        "                        'shirt',\n",
        "                        'sneaker',\n",
        "                        'bag',\n",
        "                        'ankle boot'                        \n",
        "]"
      ],
      "execution_count": 7,
      "outputs": []
    },
    {
      "cell_type": "code",
      "metadata": {
        "colab": {
          "base_uri": "https://localhost:8080/",
          "height": 299
        },
        "id": "UA958R949Xan",
        "outputId": "295f368d-4853-4a07-a3a1-f58df18c9ed0"
      },
      "source": [
        "img_index = 5\n",
        "label_index = y_train[img_index]\n",
        "print(f'Y is {label_index} and label is {fashion_mnist_labels[label_index]}')\n",
        "plt.imshow(x_train[img_index,:,:])"
      ],
      "execution_count": 10,
      "outputs": [
        {
          "output_type": "stream",
          "text": [
            "Y is 2 and label is pullover\n"
          ],
          "name": "stdout"
        },
        {
          "output_type": "execute_result",
          "data": {
            "text/plain": [
              "<matplotlib.image.AxesImage at 0x7fb31b73add0>"
            ]
          },
          "metadata": {
            "tags": []
          },
          "execution_count": 10
        },
        {
          "output_type": "display_data",
          "data": {
            "image/png": "[encoded data removed]",
            "text/plain": [
              "<Figure size 432x288 with 1 Axes>"
            ]
          },
          "metadata": {
            "tags": [],
            "needs_background": "light"
          }
        }
      ]
    },
    {
      "cell_type": "code",
      "metadata": {
        "id": "gx00sS2e-Fma"
      },
      "source": [
        ""
      ],
      "execution_count": null,
      "outputs": []
    },
    {
      "cell_type": "markdown",
      "metadata": {
        "id": "jArDtOEh-p4b"
      },
      "source": [
        "Further break training into Train and Validation"
      ]
    },
    {
      "cell_type": "code",
      "metadata": {
        "id": "HN-tutzz-xeC"
      },
      "source": [
        "(x_train, x_valid) = x_train[5000:], x_train[:5000]\n",
        "(y_train, y_valid) = y_train[5000:], y_train[:5000]"
      ],
      "execution_count": 11,
      "outputs": []
    },
    {
      "cell_type": "code",
      "metadata": {
        "id": "IKGfhcdp-9Ai"
      },
      "source": [
        "#Reshape input from (28,28) to (28,28,1)\n",
        "w,h = 28,28\n",
        "x_train = x_train.reshape(x_train.shape[0],w,h,1)\n",
        "x_valid = x_valid.reshape(x_valid.shape[0],w,h,1)\n",
        "x_test = x_test.reshape(x_test.shape[0],w,h,1)"
      ],
      "execution_count": 12,
      "outputs": []
    },
    {
      "cell_type": "code",
      "metadata": {
        "id": "-WtTQIms_Uza"
      },
      "source": [
        "#One Hot Encoding for labels\n",
        "y_train = tf.keras.utils.to_categorical(y_train,10)\n",
        "y_valid = tf.keras.utils.to_categorical(y_valid,10)\n",
        "y_test = tf.keras.utils.to_categorical(y_test,10)"
      ],
      "execution_count": 13,
      "outputs": []
    },
    {
      "cell_type": "code",
      "metadata": {
        "colab": {
          "base_uri": "https://localhost:8080/"
        },
        "id": "BOH9KwgS_hzC",
        "outputId": "98978562-2f3e-447d-c2e6-17ef11a477f3"
      },
      "source": [
        "print(f'X_train shape {x_train.shape} and y shape {y_train.shape}')"
      ],
      "execution_count": 14,
      "outputs": [
        {
          "output_type": "stream",
          "text": [
            "X_train shape (55000, 28, 28, 1) and y shape (55000, 10)\n"
          ],
          "name": "stdout"
        }
      ]
    },
    {
      "cell_type": "code",
      "metadata": {
        "colab": {
          "base_uri": "https://localhost:8080/"
        },
        "id": "VDv63bBA_p9i",
        "outputId": "d25a9ec8-081d-4894-cd8d-c9a0792e542b"
      },
      "source": [
        "print(f'Length of Train, Valid and Test is {x_train.shape[0]}, {x_valid.shape[0]} and {x_test.shape[0]}')"
      ],
      "execution_count": 15,
      "outputs": [
        {
          "output_type": "stream",
          "text": [
            "Length of Train, Valid and Test is 55000, 5000 and 10000\n"
          ],
          "name": "stdout"
        }
      ]
    },
    {
      "cell_type": "markdown",
      "metadata": {
        "id": "UzuiBuuVAgeA"
      },
      "source": [
        "Building **LeNet** Model"
      ]
    },
    {
      "cell_type": "code",
      "metadata": {
        "id": "R7C9DEPlAksq"
      },
      "source": [
        "def build_lenet_model():\n",
        "  model = tf.keras.Sequential()\n",
        "  #Must define input shape in first layer of NN\n",
        "  model.add(tf.keras.layers.Conv2D(filters=6,\n",
        "                                   kernel_size=5,\n",
        "                                   activation='sigmoid',\n",
        "                                   padding= 'same',\n",
        "                                   input_shape = (28,28,1)))\n",
        "  #Avg Pooling with strides\n",
        "  model.add(tf.keras.layers.AvgPool2D(pool_size=2,\n",
        "                                      strides=2))\n",
        "  \n",
        "  model.add(tf.keras.layers.Conv2D(filters=16,\n",
        "                                   kernel_size=5,\n",
        "                                   activation='sigmoid'))\n",
        "  \n",
        "  model.add(tf.keras.layers.AvgPool2D(pool_size=2,\n",
        "                                      strides=2))\n",
        "  \n",
        "  model.add(tf.keras.layers.Flatten())\n",
        "  model.add(tf.keras.layers.Dense(120, activation = 'sigmoid'))\n",
        "  model.add(tf.keras.layers.Dense(84, activation = 'sigmoid'))\n",
        "  model.add(tf.keras.layers.Dense(10, activation = 'softmax'))\n",
        "\n",
        "  model.compile(loss = 'categorical_crossentropy',\n",
        "                optimizer='adam',\n",
        "                metrics=['accuracy'])\n",
        "  \n",
        "  return model\n",
        "  \n",
        "  "
      ],
      "execution_count": 22,
      "outputs": []
    },
    {
      "cell_type": "code",
      "metadata": {
        "colab": {
          "base_uri": "https://localhost:8080/"
        },
        "id": "Vk9pLS_7Bo3N",
        "outputId": "70110fbf-92b3-4f9c-8ace-f68caa4b29ad"
      },
      "source": [
        "le_net = build_lenet_model()\n",
        "print(le_net.summary())"
      ],
      "execution_count": 23,
      "outputs": [
        {
          "output_type": "stream",
          "text": [
            "Model: \"sequential_1\"\n",
            "_________________________________________________________________\n",
            "Layer (type)                 Output Shape              Param #   \n",
            "=================================================================\n",
            "conv2d_4 (Conv2D)            (None, 28, 28, 6)         156       \n",
            "_________________________________________________________________\n",
            "average_pooling2d_4 (Average (None, 14, 14, 6)         0         \n",
            "_________________________________________________________________\n",
            "conv2d_5 (Conv2D)            (None, 10, 10, 16)        2416      \n",
            "_________________________________________________________________\n",
            "average_pooling2d_5 (Average (None, 5, 5, 16)          0         \n",
            "_________________________________________________________________\n",
            "flatten_2 (Flatten)          (None, 400)               0         \n",
            "_________________________________________________________________\n",
            "dense_6 (Dense)              (None, 120)               48120     \n",
            "_________________________________________________________________\n",
            "dense_7 (Dense)              (None, 84)                10164     \n",
            "_________________________________________________________________\n",
            "dense_8 (Dense)              (None, 10)                850       \n",
            "=================================================================\n",
            "Total params: 61,706\n",
            "Trainable params: 61,706\n",
            "Non-trainable params: 0\n",
            "_________________________________________________________________\n",
            "None\n"
          ],
          "name": "stdout"
        }
      ]
    },
    {
      "cell_type": "markdown",
      "metadata": {
        "id": "DJj9ir-jCW_c"
      },
      "source": [
        "Model Checkpointing"
      ]
    },
    {
      "cell_type": "code",
      "metadata": {
        "colab": {
          "base_uri": "https://localhost:8080/"
        },
        "id": "GmTRqI7uCYva",
        "outputId": "3f79f928-a99c-4f46-cb57-29c63a5f1ea4"
      },
      "source": [
        "from keras.callbacks import ModelCheckpoint\n",
        "checkpoint = ModelCheckpoint(filepath='model.weights.best.hdf5',\n",
        "                             verbose=1,\n",
        "                             save_best_only=True)\n",
        "model_log = le_net.fit(x_train,\n",
        "                      y_train,\n",
        "                      batch_size=64,\n",
        "                      epochs=10,\n",
        "                      validation_data = (x_valid,y_valid),\n",
        "                      callbacks = [checkpoint])"
      ],
      "execution_count": 24,
      "outputs": [
        {
          "output_type": "stream",
          "text": [
            "Epoch 1/10\n",
            "860/860 [==============================] - 35s 40ms/step - loss: 1.3986 - accuracy: 0.4982 - val_loss: 0.5790 - val_accuracy: 0.7810\n",
            "\n",
            "Epoch 00001: val_loss improved from inf to 0.57904, saving model to model.weights.best.hdf5\n",
            "Epoch 2/10\n",
            "860/860 [==============================] - 35s 40ms/step - loss: 0.5684 - accuracy: 0.7773 - val_loss: 0.4560 - val_accuracy: 0.8272\n",
            "\n",
            "Epoch 00002: val_loss improved from 0.57904 to 0.45602, saving model to model.weights.best.hdf5\n",
            "Epoch 3/10\n",
            "860/860 [==============================] - 35s 40ms/step - loss: 0.4740 - accuracy: 0.8218 - val_loss: 0.4035 - val_accuracy: 0.8530\n",
            "\n",
            "Epoch 00003: val_loss improved from 0.45602 to 0.40347, saving model to model.weights.best.hdf5\n",
            "Epoch 4/10\n",
            "860/860 [==============================] - 35s 41ms/step - loss: 0.4185 - accuracy: 0.8447 - val_loss: 0.3794 - val_accuracy: 0.8570\n",
            "\n",
            "Epoch 00004: val_loss improved from 0.40347 to 0.37939, saving model to model.weights.best.hdf5\n",
            "Epoch 5/10\n",
            "860/860 [==============================] - 35s 41ms/step - loss: 0.3938 - accuracy: 0.8534 - val_loss: 0.3613 - val_accuracy: 0.8622\n",
            "\n",
            "Epoch 00005: val_loss improved from 0.37939 to 0.36127, saving model to model.weights.best.hdf5\n",
            "Epoch 6/10\n",
            "860/860 [==============================] - 35s 40ms/step - loss: 0.3647 - accuracy: 0.8632 - val_loss: 0.3445 - val_accuracy: 0.8690\n",
            "\n",
            "Epoch 00006: val_loss improved from 0.36127 to 0.34452, saving model to model.weights.best.hdf5\n",
            "Epoch 7/10\n",
            "860/860 [==============================] - 34s 40ms/step - loss: 0.3440 - accuracy: 0.8719 - val_loss: 0.3269 - val_accuracy: 0.8812\n",
            "\n",
            "Epoch 00007: val_loss improved from 0.34452 to 0.32690, saving model to model.weights.best.hdf5\n",
            "Epoch 8/10\n",
            "860/860 [==============================] - 35s 41ms/step - loss: 0.3360 - accuracy: 0.8743 - val_loss: 0.3077 - val_accuracy: 0.8842\n",
            "\n",
            "Epoch 00008: val_loss improved from 0.32690 to 0.30766, saving model to model.weights.best.hdf5\n",
            "Epoch 9/10\n",
            "860/860 [==============================] - 35s 41ms/step - loss: 0.3176 - accuracy: 0.8825 - val_loss: 0.3193 - val_accuracy: 0.8824\n",
            "\n",
            "Epoch 00009: val_loss did not improve from 0.30766\n",
            "Epoch 10/10\n",
            "860/860 [==============================] - 35s 40ms/step - loss: 0.3143 - accuracy: 0.8844 - val_loss: 0.2956 - val_accuracy: 0.8910\n",
            "\n",
            "Epoch 00010: val_loss improved from 0.30766 to 0.29560, saving model to model.weights.best.hdf5\n"
          ],
          "name": "stdout"
        }
      ]
    },
    {
      "cell_type": "code",
      "metadata": {
        "colab": {
          "base_uri": "https://localhost:8080/"
        },
        "id": "Lp6_jf7cC8F-",
        "outputId": "b459584c-bd9b-422c-8421-e97a39e124ff"
      },
      "source": [
        "score  = le_net.evaluate(x_test,y_test)\n",
        "print(f'Test Accuracy is {score[1]}')"
      ],
      "execution_count": 25,
      "outputs": [
        {
          "output_type": "stream",
          "text": [
            "313/313 [==============================] - 4s 12ms/step - loss: 0.3312 - accuracy: 0.8786\n",
            "Test Accuracy is 0.878600001335144\n"
          ],
          "name": "stdout"
        }
      ]
    },
    {
      "cell_type": "markdown",
      "metadata": {
        "id": "U6S-f4SsEaTj"
      },
      "source": [
        "Improving on **Le Net**"
      ]
    },
    {
      "cell_type": "code",
      "metadata": {
        "id": "SRF2atXgEZ-3"
      },
      "source": [
        "def build_lenet_model_variant():\n",
        "  model = tf.keras.Sequential()\n",
        "  #Must define input shape in first layer of NN\n",
        "  model.add(tf.keras.layers.Conv2D(filters=64,\n",
        "                                   kernel_size=2,\n",
        "                                   activation='relu',\n",
        "                                   padding= 'same',\n",
        "                                   input_shape = (28,28,1)))\n",
        "  #Avg Pooling with strides\n",
        "  model.add(tf.keras.layers.MaxPooling2D(pool_size=2))\n",
        "  model.add(tf.keras.layers.Dropout(0.3))\n",
        "  \n",
        "  model.add(tf.keras.layers.Conv2D(filters=32,\n",
        "                                   kernel_size=2,\n",
        "                                   padding= 'same',\n",
        "                                   activation='relu'))\n",
        "  model.add(tf.keras.layers.MaxPooling2D(pool_size=2))\n",
        "  model.add(tf.keras.layers.Dropout(0.3))  \n",
        "  \n",
        "  model.add(tf.keras.layers.Flatten())\n",
        "  \n",
        "  '''We need bigger fully connected layer as Output shape from flattened\n",
        "  Convolutions  is 1568'''\n",
        "\n",
        "  model.add(tf.keras.layers.Dense(256, activation = 'relu'))\n",
        "  model.add(tf.keras.layers.Dropout(0.5))   \n",
        "  model.add(tf.keras.layers.Dense(10, activation = 'softmax'))\n",
        "\n",
        "  model.compile(loss = 'categorical_crossentropy',\n",
        "                optimizer='adam',\n",
        "                metrics=['accuracy'])\n",
        "  \n",
        "  return model"
      ],
      "execution_count": 26,
      "outputs": []
    },
    {
      "cell_type": "code",
      "metadata": {
        "colab": {
          "base_uri": "https://localhost:8080/"
        },
        "id": "stQxsw6ZFjSG",
        "outputId": "fabc7bc0-ade5-484b-b092-8d6e3d3c4679"
      },
      "source": [
        "le_net_variant = build_lenet_model_variant()\n",
        "print(le_net_variant.summary())\n"
      ],
      "execution_count": 27,
      "outputs": [
        {
          "output_type": "stream",
          "text": [
            "Model: \"sequential_2\"\n",
            "_________________________________________________________________\n",
            "Layer (type)                 Output Shape              Param #   \n",
            "=================================================================\n",
            "conv2d_6 (Conv2D)            (None, 28, 28, 64)        320       \n",
            "_________________________________________________________________\n",
            "max_pooling2d (MaxPooling2D) (None, 14, 14, 64)        0         \n",
            "_________________________________________________________________\n",
            "dropout (Dropout)            (None, 14, 14, 64)        0         \n",
            "_________________________________________________________________\n",
            "conv2d_7 (Conv2D)            (None, 14, 14, 32)        8224      \n",
            "_________________________________________________________________\n",
            "max_pooling2d_1 (MaxPooling2 (None, 7, 7, 32)          0         \n",
            "_________________________________________________________________\n",
            "dropout_1 (Dropout)          (None, 7, 7, 32)          0         \n",
            "_________________________________________________________________\n",
            "flatten_3 (Flatten)          (None, 1568)              0         \n",
            "_________________________________________________________________\n",
            "dense_9 (Dense)              (None, 256)               401664    \n",
            "_________________________________________________________________\n",
            "dropout_2 (Dropout)          (None, 256)               0         \n",
            "_________________________________________________________________\n",
            "dense_10 (Dense)             (None, 10)                2570      \n",
            "=================================================================\n",
            "Total params: 412,778\n",
            "Trainable params: 412,778\n",
            "Non-trainable params: 0\n",
            "_________________________________________________________________\n",
            "None\n"
          ],
          "name": "stdout"
        }
      ]
    },
    {
      "cell_type": "code",
      "metadata": {
        "colab": {
          "base_uri": "https://localhost:8080/"
        },
        "id": "WQMrGUMDFwhC",
        "outputId": "a14b1bcb-5376-4a01-d83e-da97e2e9ba06"
      },
      "source": [
        "checkpoint = ModelCheckpoint(filepath='model_v2.weights.best.hdf5',\n",
        "                             verbose=1,\n",
        "                             save_best_only=True)\n",
        "model_log = le_net_variant.fit(x_train,\n",
        "                      y_train,\n",
        "                      batch_size=64,\n",
        "                      epochs=10,\n",
        "                      validation_data = (x_valid,y_valid),\n",
        "                      callbacks = [checkpoint])"
      ],
      "execution_count": 28,
      "outputs": [
        {
          "output_type": "stream",
          "text": [
            "Epoch 1/10\n",
            "860/860 [==============================] - 62s 72ms/step - loss: 4.7957 - accuracy: 0.5649 - val_loss: 0.4960 - val_accuracy: 0.8186\n",
            "\n",
            "Epoch 00001: val_loss improved from inf to 0.49598, saving model to model_v2.weights.best.hdf5\n",
            "Epoch 2/10\n",
            "860/860 [==============================] - 61s 71ms/step - loss: 0.6296 - accuracy: 0.7643 - val_loss: 0.4280 - val_accuracy: 0.8450\n",
            "\n",
            "Epoch 00002: val_loss improved from 0.49598 to 0.42803, saving model to model_v2.weights.best.hdf5\n",
            "Epoch 3/10\n",
            "860/860 [==============================] - 62s 72ms/step - loss: 0.5393 - accuracy: 0.7963 - val_loss: 0.3718 - val_accuracy: 0.8648\n",
            "\n",
            "Epoch 00003: val_loss improved from 0.42803 to 0.37185, saving model to model_v2.weights.best.hdf5\n",
            "Epoch 4/10\n",
            "860/860 [==============================] - 61s 71ms/step - loss: 0.4887 - accuracy: 0.8210 - val_loss: 0.3407 - val_accuracy: 0.8760\n",
            "\n",
            "Epoch 00004: val_loss improved from 0.37185 to 0.34065, saving model to model_v2.weights.best.hdf5\n",
            "Epoch 5/10\n",
            "860/860 [==============================] - 61s 71ms/step - loss: 0.4489 - accuracy: 0.8324 - val_loss: 0.3190 - val_accuracy: 0.8822\n",
            "\n",
            "Epoch 00005: val_loss improved from 0.34065 to 0.31905, saving model to model_v2.weights.best.hdf5\n",
            "Epoch 6/10\n",
            "860/860 [==============================] - 61s 71ms/step - loss: 0.4249 - accuracy: 0.8452 - val_loss: 0.3092 - val_accuracy: 0.8812\n",
            "\n",
            "Epoch 00006: val_loss improved from 0.31905 to 0.30918, saving model to model_v2.weights.best.hdf5\n",
            "Epoch 7/10\n",
            "860/860 [==============================] - 61s 71ms/step - loss: 0.4090 - accuracy: 0.8487 - val_loss: 0.2968 - val_accuracy: 0.8928\n",
            "\n",
            "Epoch 00007: val_loss improved from 0.30918 to 0.29680, saving model to model_v2.weights.best.hdf5\n",
            "Epoch 8/10\n",
            "860/860 [==============================] - 61s 71ms/step - loss: 0.3916 - accuracy: 0.8554 - val_loss: 0.2942 - val_accuracy: 0.8928\n",
            "\n",
            "Epoch 00008: val_loss improved from 0.29680 to 0.29423, saving model to model_v2.weights.best.hdf5\n",
            "Epoch 9/10\n",
            "860/860 [==============================] - 61s 71ms/step - loss: 0.3860 - accuracy: 0.8572 - val_loss: 0.2954 - val_accuracy: 0.8904\n",
            "\n",
            "Epoch 00009: val_loss did not improve from 0.29423\n",
            "Epoch 10/10\n",
            "860/860 [==============================] - 61s 71ms/step - loss: 0.3728 - accuracy: 0.8621 - val_loss: 0.2871 - val_accuracy: 0.8974\n",
            "\n",
            "Epoch 00010: val_loss improved from 0.29423 to 0.28705, saving model to model_v2.weights.best.hdf5\n"
          ],
          "name": "stdout"
        }
      ]
    },
    {
      "cell_type": "code",
      "metadata": {
        "colab": {
          "base_uri": "https://localhost:8080/"
        },
        "id": "QRT9pNDiGGNq",
        "outputId": "89e02027-dad2-4a59-b714-7f8ee220877f"
      },
      "source": [
        "score  = le_net_variant.evaluate(x_test,y_test)\n",
        "print(f'Test Accuracy is {score[1]}')"
      ],
      "execution_count": 29,
      "outputs": [
        {
          "output_type": "stream",
          "text": [
            "313/313 [==============================] - 3s 9ms/step - loss: 0.3111 - accuracy: 0.8867\n",
            "Test Accuracy is 0.8866999745368958\n"
          ],
          "name": "stdout"
        }
      ]
    },
    {
      "cell_type": "markdown",
      "metadata": {
        "id": "rJzwRLVFHCs-"
      },
      "source": [
        "Moving to **AlexNet**\n",
        "```\n",
        "Very Deep Convolutional NN\n",
        "Achieved with GPUs as data and computation is huge\n",
        "```\n",
        "\n",
        "* 8 Layer CNN for *ImageNet* Dataset(larger 224*224)\n",
        "* Relu as activation (**lenet** used sigmoid)\n",
        "* First Layer filters are 11*11\n",
        "* Added Image Augmentation(flipping, clipping and color change)\n",
        "* uses dropout (**lenet** used weight decay)"
      ]
    },
    {
      "cell_type": "code",
      "metadata": {
        "id": "Ct9Y1TlwHBJx"
      },
      "source": [
        "def build_alex_net():\n",
        "  model = tf.keras.Sequential()\n",
        "  #Must define input shape in first layer of NN\n",
        "  model.add(tf.keras.layers.Conv2D(filters=32,\n",
        "                                   kernel_size=11,\n",
        "                                   activation='relu',\n",
        "                                   padding= 'same',\n",
        "                                   input_shape = (28,28,1)))\n",
        "  \n",
        "  model.add(tf.keras.layers.MaxPooling2D(pool_size=2))\n",
        "  model.add(tf.keras.layers.Dropout(0.3))\n",
        "\n",
        "  model.add(tf.keras.layers.Conv2D(filters=64,\n",
        "                                   kernel_size=5,\n",
        "                                   activation='relu',\n",
        "                                   padding= 'same'))\n",
        "  \n",
        "  model.add(tf.keras.layers.MaxPooling2D(pool_size=2))\n",
        "  model.add(tf.keras.layers.Dropout(0.3))\n",
        "  \n",
        "  model.add(tf.keras.layers.Conv2D(filters=128,\n",
        "                                   kernel_size=3,\n",
        "                                   padding= 'same',\n",
        "                                   activation='relu'))\n",
        "  model.add(tf.keras.layers.MaxPooling2D(pool_size=2))\n",
        "  model.add(tf.keras.layers.Dropout(0.3))\n",
        "\n",
        "  model.add(tf.keras.layers.Conv2D(filters=128,\n",
        "                                   kernel_size=3,\n",
        "                                   padding= 'same',\n",
        "                                   activation='relu'))\n",
        "  #model.add(tf.keras.layers.MaxPooling2D(pool_size=2))\n",
        "  #model.add(tf.keras.layers.Dropout(0.3))\n",
        "\n",
        "  model.add(tf.keras.layers.Conv2D(filters=128,\n",
        "                                   kernel_size=3,\n",
        "                                   padding= 'same',\n",
        "                                   activation='relu'))\n",
        "  #model.add(tf.keras.layers.MaxPooling2D(pool_size=2))\n",
        "  #model.add(tf.keras.layers.Dropout(0.3))  \n",
        "  \n",
        "  model.add(tf.keras.layers.Flatten())\n",
        "  \n",
        "  '''We need bigger fully connected layer as Output shape from flattened\n",
        "  Convolutions  is 1568'''\n",
        "\n",
        "  model.add(tf.keras.layers.Dense(2048, activation = 'relu'))\n",
        "  model.add(tf.keras.layers.Dropout(0.5))   \n",
        "  model.add(tf.keras.layers.Dense(1000, activation = 'softmax'))\n",
        "\n",
        "  model.compile(loss = 'categorical_crossentropy',\n",
        "                optimizer='adam',\n",
        "                metrics=['accuracy'])\n",
        "  return model"
      ],
      "execution_count": 34,
      "outputs": []
    },
    {
      "cell_type": "code",
      "metadata": {
        "colab": {
          "base_uri": "https://localhost:8080/"
        },
        "id": "MqVlPltmKJGn",
        "outputId": "4d8a7f81-be5d-4e54-ac5a-6137c9b0f69a"
      },
      "source": [
        "alexnet = build_alex_net()\n",
        "print(alexnet.summary())"
      ],
      "execution_count": 35,
      "outputs": [
        {
          "output_type": "stream",
          "text": [
            "Model: \"sequential_5\"\n",
            "_________________________________________________________________\n",
            "Layer (type)                 Output Shape              Param #   \n",
            "=================================================================\n",
            "conv2d_18 (Conv2D)           (None, 28, 28, 32)        3904      \n",
            "_________________________________________________________________\n",
            "max_pooling2d_10 (MaxPooling (None, 14, 14, 32)        0         \n",
            "_________________________________________________________________\n",
            "dropout_11 (Dropout)         (None, 14, 14, 32)        0         \n",
            "_________________________________________________________________\n",
            "conv2d_19 (Conv2D)           (None, 14, 14, 64)        51264     \n",
            "_________________________________________________________________\n",
            "max_pooling2d_11 (MaxPooling (None, 7, 7, 64)          0         \n",
            "_________________________________________________________________\n",
            "dropout_12 (Dropout)         (None, 7, 7, 64)          0         \n",
            "_________________________________________________________________\n",
            "conv2d_20 (Conv2D)           (None, 7, 7, 128)         73856     \n",
            "_________________________________________________________________\n",
            "max_pooling2d_12 (MaxPooling (None, 3, 3, 128)         0         \n",
            "_________________________________________________________________\n",
            "dropout_13 (Dropout)         (None, 3, 3, 128)         0         \n",
            "_________________________________________________________________\n",
            "conv2d_21 (Conv2D)           (None, 3, 3, 128)         147584    \n",
            "_________________________________________________________________\n",
            "conv2d_22 (Conv2D)           (None, 3, 3, 128)         147584    \n",
            "_________________________________________________________________\n",
            "flatten_5 (Flatten)          (None, 1152)              0         \n",
            "_________________________________________________________________\n",
            "dense_13 (Dense)             (None, 2048)              2361344   \n",
            "_________________________________________________________________\n",
            "dropout_14 (Dropout)         (None, 2048)              0         \n",
            "_________________________________________________________________\n",
            "dense_14 (Dense)             (None, 1000)              2049000   \n",
            "=================================================================\n",
            "Total params: 4,834,536\n",
            "Trainable params: 4,834,536\n",
            "Non-trainable params: 0\n",
            "_________________________________________________________________\n",
            "None\n"
          ],
          "name": "stdout"
        }
      ]
    },
    {
      "cell_type": "markdown",
      "metadata": {
        "id": "vI2_JhyXKm-q"
      },
      "source": [
        "Relu Activation\n",
        "```\n",
        "output = max(0,input)\n",
        "```\n",
        "Why?\n",
        "1. Deep Layers cause vanishing gradient problem (solved with Relu)\n",
        "2. Gradient tends to be close to zero for deeper networks (as sigmoid and tanh are flat at the beginning and end) \n",
        "3. Hence, learning is slow\n",
        "4. Sigmoid and Tanh are exponential in nature whereas RELU is piecewise linear and less costly (easier to train)"
      ]
    },
    {
      "cell_type": "markdown",
      "metadata": {
        "id": "H_4-iWcHLjKO"
      },
      "source": [
        "*Transfer Learning*\n",
        "\n",
        "1. Useful when you donot have sufficient \n",
        "labelled data for task\n",
        "\n",
        "2. One-Shot and Zero-shot learning\n",
        "\n",
        "3. Key driver for success of ML in Industry\n"
      ]
    },
    {
      "cell_type": "markdown",
      "metadata": {
        "id": "hGLIiTyUM4wM"
      },
      "source": [
        "From AlexNet to **VGG**\n",
        "\n",
        "1. Consists of VGG Block\n",
        "\n",
        "> One Block contains sequence of Convolution Layer and maxpooling layer\n",
        "\n",
        "2. Has 5 Convolutional blocks\n",
        "\n",
        "> First Two have two Conv layers\n",
        "\n",
        "> later Three have three Conv Layers\n",
        "\n",
        "> 3 Fully connected layer\n",
        "\n",
        "3. All Conv have 3 * 3 filters with 2 * 2 italicized text MaxPool\n",
        "\n",
        "4. Number of Channels remains the same\n",
        "\n",
        "\n"
      ]
    },
    {
      "cell_type": "markdown",
      "metadata": {
        "id": "CQMwa-vMOUGe"
      },
      "source": [
        "Synthetic Mnist with **VGG-16**"
      ]
    },
    {
      "cell_type": "code",
      "metadata": {
        "colab": {
          "resources": {
            "http://localhost:8080/nbextensions/google.colab/files.js": {
              "data": "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",
              "ok": true,
              "headers": [
                [
                  "content-type",
                  "application/javascript"
                ]
              ],
              "status": 200,
              "status_text": ""
            }
          },
          "base_uri": "https://localhost:8080/",
          "height": 89
        },
        "id": "D4b55IbmM4f9",
        "outputId": "afb44d09-4580-4d0c-ce0c-ae67f6e37579"
      },
      "source": [
        "!pip install -q kaggle\n",
        "from google.colab import files\n",
        "files.upload()"
      ],
      "execution_count": 36,
      "outputs": [
        {
          "output_type": "display_data",
          "data": {
            "text/html": [
              "\n",
              "     <input type=\"file\" id=\"files-9dc8b0aa-6a0e-448e-ade3-f41d60d52e7b\" name=\"files[]\" multiple disabled\n",
              "        style=\"border:none\" />\n",
              "     <output id=\"result-9dc8b0aa-6a0e-448e-ade3-f41d60d52e7b\">\n",
              "      Upload widget is only available when the cell has been executed in the\n",
              "      current browser session. Please rerun this cell to enable.\n",
              "      </output>\n",
              "      <script src=\"/nbextensions/google.colab/files.js\"></script> "
            ],
            "text/plain": [
              "<IPython.core.display.HTML object>"
            ]
          },
          "metadata": {
            "tags": []
          }
        },
        {
          "output_type": "stream",
          "text": [
            "Saving kaggle.json to kaggle.json\n"
          ],
          "name": "stdout"
        },
        {
          "output_type": "execute_result",
          "data": {
            "text/plain": [
              "{'kaggle.json': b'{\"username\":\"vinayex2\",\"key\":\"f2a28eb042824629fed6dd52bc279b6d\"}'}"
            ]
          },
          "metadata": {
            "tags": []
          },
          "execution_count": 36
        }
      ]
    },
    {
      "cell_type": "code",
      "metadata": {
        "id": "JkzzKwSuKmqk"
      },
      "source": [
        "!mkdir ~/.kaggle\n",
        "!cp kaggle.json ~/.kaggle/\n",
        "!chmod 600 ~/.kaggle/kaggle.json"
      ],
      "execution_count": 37,
      "outputs": []
    },
    {
      "cell_type": "code",
      "metadata": {
        "colab": {
          "base_uri": "https://localhost:8080/"
        },
        "id": "0CqUG2I7KO4r",
        "outputId": "4892c83f-fdd4-4ea6-e0a7-2992b0c7e794"
      },
      "source": [
        "!kaggle datasets download -d 'prasunroy/synthetic-digits'"
      ],
      "execution_count": 38,
      "outputs": [
        {
          "output_type": "stream",
          "text": [
            "Downloading synthetic-digits.zip to /content\n",
            " 95% 221M/232M [00:01<00:00, 199MB/s]\n",
            "100% 232M/232M [00:01<00:00, 198MB/s]\n"
          ],
          "name": "stdout"
        }
      ]
    },
    {
      "cell_type": "code",
      "metadata": {
        "id": "OSRxtcFuQQ27"
      },
      "source": [
        "!unzip synthetic-digits.zip -d synthetic-digits"
      ],
      "execution_count": null,
      "outputs": []
    },
    {
      "cell_type": "markdown",
      "metadata": {
        "id": "DbPBTOk9Qq8k"
      },
      "source": [
        "Data Generators for **Real ML**"
      ]
    },
    {
      "cell_type": "code",
      "metadata": {
        "colab": {
          "base_uri": "https://localhost:8080/"
        },
        "id": "1oded8n3QqPv",
        "outputId": "488bd4b2-c8a1-4b61-f20c-9d1b270a9a7e"
      },
      "source": [
        "imagegen = tf.keras.preprocessing.image.ImageDataGenerator()\n",
        "batch_size=128\n",
        "dimen = 224\n",
        "train = imagegen.flow_from_directory('/content/synthetic-digits/synthetic_digits/imgs_train',\n",
        "                                    class_mode='categorical',\n",
        "                                    shuffle=False,\n",
        "                                    batch_size=batch_size,\n",
        "                                    target_size=(dimen,dimen))\n",
        "val = imagegen.flow_from_directory('/content/synthetic-digits/synthetic_digits/imgs_valid',\n",
        "                                    class_mode='categorical',\n",
        "                                    shuffle=False,\n",
        "                                    batch_size=batch_size,\n",
        "                                    target_size=(dimen,dimen))"
      ],
      "execution_count": 5,
      "outputs": [
        {
          "output_type": "stream",
          "text": [
            "Found 10000 images belonging to 10 classes.\n",
            "Found 2000 images belonging to 10 classes.\n"
          ],
          "name": "stdout"
        }
      ]
    },
    {
      "cell_type": "code",
      "metadata": {
        "id": "sCb8lTQoRd8B"
      },
      "source": [
        "from tensorflow.keras import Sequential\n",
        "from tensorflow.keras.layers import Dense, Conv2D, MaxPooling2D, Dropout\n",
        "from tensorflow.keras.layers import LeakyReLU, Input, Flatten, BatchNormalization\n",
        "\n",
        "def get_baseline_model(input_shape, \n",
        "                       kernel_size_1,\n",
        "                       leaky_relu_alpha,\n",
        "                       pool_size_1,\n",
        "                       kernel_size_2,                       \n",
        "                       pool_size_2,\n",
        "                       drop_out_rate,\n",
        "                       number_of_classes):  \n",
        "  \n",
        "  model = Sequential()\n",
        "  model.add(Input(shape=input_shape))\n",
        "\n",
        "  #Block 1\n",
        "  model.add(Conv2D(32, kernel_size=kernel_size_1))\n",
        "  model.add(LeakyReLU(alpha=leaky_relu_alpha))  \n",
        "  model.add(Conv2D(32, kernel_size=kernel_size_1))\n",
        "  model.add(LeakyReLU(alpha=leaky_relu_alpha))\n",
        "  model.add(MaxPooling2D(pool_size_1))\n",
        "\n",
        "  #Block 2\n",
        "  model.add(Conv2D(64, kernel_size=kernel_size_2))\n",
        "  model.add(LeakyReLU(alpha=leaky_relu_alpha))  \n",
        "  model.add(Conv2D(64, kernel_size=kernel_size_2))\n",
        "  model.add(LeakyReLU(alpha=leaky_relu_alpha))\n",
        "  model.add(MaxPooling2D(pool_size_2))\n",
        "\n",
        "  model.add(Flatten())\n",
        "  model.add(Dense(128))\n",
        "  model.add(LeakyReLU(alpha=leaky_relu_alpha))\n",
        "  model.add(Dropout(drop_out_rate))\n",
        "\n",
        "  model.add(Dense(number_of_classes, activation = 'softmax'))\n",
        "\n",
        "  opt = tf.keras.optimizers.Adam(learning_rate = 0.001, epsilon=0.0001)\n",
        "  model.compile(loss='categorical_crossentropy', optimizer = opt,\n",
        "                metrics=['accuracy'])\n",
        "  \n",
        "  return model\n",
        "\n"
      ],
      "execution_count": 15,
      "outputs": []
    },
    {
      "cell_type": "code",
      "metadata": {
        "colab": {
          "base_uri": "https://localhost:8080/"
        },
        "id": "Qu3RmtpqUD4u",
        "outputId": "3e447c86-6474-45dd-8ca1-903124ab3083"
      },
      "source": [
        "baseline = get_baseline_model((224,224,3),\n",
        "                              7,\n",
        "                              0.01,\n",
        "                              3,\n",
        "                              3,                              \n",
        "                              2,\n",
        "                              0.3,\n",
        "                              1000)\n",
        "print(baseline.summary())"
      ],
      "execution_count": 76,
      "outputs": [
        {
          "output_type": "stream",
          "text": [
            "Model: \"sequential_23\"\n",
            "_________________________________________________________________\n",
            "Layer (type)                 Output Shape              Param #   \n",
            "=================================================================\n",
            "conv2d_60 (Conv2D)           (None, 218, 218, 32)      1600      \n",
            "_________________________________________________________________\n",
            "leaky_re_lu_44 (LeakyReLU)   (None, 218, 218, 32)      0         \n",
            "_________________________________________________________________\n",
            "conv2d_61 (Conv2D)           (None, 212, 212, 32)      50208     \n",
            "_________________________________________________________________\n",
            "leaky_re_lu_45 (LeakyReLU)   (None, 212, 212, 32)      0         \n",
            "_________________________________________________________________\n",
            "max_pooling2d_29 (MaxPooling (None, 70, 70, 32)        0         \n",
            "_________________________________________________________________\n",
            "conv2d_62 (Conv2D)           (None, 68, 68, 64)        18496     \n",
            "_________________________________________________________________\n",
            "leaky_re_lu_46 (LeakyReLU)   (None, 68, 68, 64)        0         \n",
            "_________________________________________________________________\n",
            "conv2d_63 (Conv2D)           (None, 66, 66, 64)        36928     \n",
            "_________________________________________________________________\n",
            "leaky_re_lu_47 (LeakyReLU)   (None, 66, 66, 64)        0         \n",
            "_________________________________________________________________\n",
            "max_pooling2d_30 (MaxPooling (None, 33, 33, 64)        0         \n",
            "_________________________________________________________________\n",
            "flatten_17 (Flatten)         (None, 69696)             0         \n",
            "_________________________________________________________________\n",
            "dense_36 (Dense)             (None, 128)               8921216   \n",
            "_________________________________________________________________\n",
            "leaky_re_lu_48 (LeakyReLU)   (None, 128)               0         \n",
            "_________________________________________________________________\n",
            "dropout_26 (Dropout)         (None, 128)               0         \n",
            "_________________________________________________________________\n",
            "dense_37 (Dense)             (None, 1000)              129000    \n",
            "=================================================================\n",
            "Total params: 9,157,448\n",
            "Trainable params: 9,157,448\n",
            "Non-trainable params: 0\n",
            "_________________________________________________________________\n",
            "None\n"
          ],
          "name": "stdout"
        }
      ]
    },
    {
      "cell_type": "markdown",
      "metadata": {
        "id": "MISI8WfsYN4H"
      },
      "source": [
        "Using Pretrained VGG"
      ]
    },
    {
      "cell_type": "code",
      "metadata": {
        "colab": {
          "base_uri": "https://localhost:8080/"
        },
        "id": "g2BvfH3JYNRV",
        "outputId": "7c196f64-3f8f-42b7-e134-1fa9238acd93"
      },
      "source": [
        "pretrained_model = tf.keras.applications.VGG16(include_top=False,weights='imagenet')\n",
        "pretrained_model.summary()"
      ],
      "execution_count": 3,
      "outputs": [
        {
          "output_type": "stream",
          "text": [
            "Model: \"vgg16\"\n",
            "_________________________________________________________________\n",
            "Layer (type)                 Output Shape              Param #   \n",
            "=================================================================\n",
            "input_1 (InputLayer)         [(None, None, None, 3)]   0         \n",
            "_________________________________________________________________\n",
            "block1_conv1 (Conv2D)        (None, None, None, 64)    1792      \n",
            "_________________________________________________________________\n",
            "block1_conv2 (Conv2D)        (None, None, None, 64)    36928     \n",
            "_________________________________________________________________\n",
            "block1_pool (MaxPooling2D)   (None, None, None, 64)    0         \n",
            "_________________________________________________________________\n",
            "block2_conv1 (Conv2D)        (None, None, None, 128)   73856     \n",
            "_________________________________________________________________\n",
            "block2_conv2 (Conv2D)        (None, None, None, 128)   147584    \n",
            "_________________________________________________________________\n",
            "block2_pool (MaxPooling2D)   (None, None, None, 128)   0         \n",
            "_________________________________________________________________\n",
            "block3_conv1 (Conv2D)        (None, None, None, 256)   295168    \n",
            "_________________________________________________________________\n",
            "block3_conv2 (Conv2D)        (None, None, None, 256)   590080    \n",
            "_________________________________________________________________\n",
            "block3_conv3 (Conv2D)        (None, None, None, 256)   590080    \n",
            "_________________________________________________________________\n",
            "block3_pool (MaxPooling2D)   (None, None, None, 256)   0         \n",
            "_________________________________________________________________\n",
            "block4_conv1 (Conv2D)        (None, None, None, 512)   1180160   \n",
            "_________________________________________________________________\n",
            "block4_conv2 (Conv2D)        (None, None, None, 512)   2359808   \n",
            "_________________________________________________________________\n",
            "block4_conv3 (Conv2D)        (None, None, None, 512)   2359808   \n",
            "_________________________________________________________________\n",
            "block4_pool (MaxPooling2D)   (None, None, None, 512)   0         \n",
            "_________________________________________________________________\n",
            "block5_conv1 (Conv2D)        (None, None, None, 512)   2359808   \n",
            "_________________________________________________________________\n",
            "block5_conv2 (Conv2D)        (None, None, None, 512)   2359808   \n",
            "_________________________________________________________________\n",
            "block5_conv3 (Conv2D)        (None, None, None, 512)   2359808   \n",
            "_________________________________________________________________\n",
            "block5_pool (MaxPooling2D)   (None, None, None, 512)   0         \n",
            "=================================================================\n",
            "Total params: 14,714,688\n",
            "Trainable params: 14,714,688\n",
            "Non-trainable params: 0\n",
            "_________________________________________________________________\n"
          ],
          "name": "stdout"
        }
      ]
    },
    {
      "cell_type": "code",
      "metadata": {
        "colab": {
          "base_uri": "https://localhost:8080/"
        },
        "id": "JsaQVWkvYzr_",
        "outputId": "4e737034-1a7f-44c2-ef72-fda94d074f0a"
      },
      "source": [
        "vgg_features_train = pretrained_model.predict(train,verbose=1)\n",
        "\n"
      ],
      "execution_count": 23,
      "outputs": [
        {
          "output_type": "stream",
          "text": [
            "79/79 [==============================] - 2821s 36s/step\n"
          ],
          "name": "stdout"
        }
      ]
    },
    {
      "cell_type": "code",
      "metadata": {
        "colab": {
          "base_uri": "https://localhost:8080/"
        },
        "id": "hXcvd2PnnM_y",
        "outputId": "f3196895-f909-431d-da46-6991ce343bda"
      },
      "source": [
        "vgg_features_val = pretrained_model.predict(val,verbose=1)"
      ],
      "execution_count": 25,
      "outputs": [
        {
          "output_type": "stream",
          "text": [
            "16/16 [==============================] - 561s 35s/step\n"
          ],
          "name": "stdout"
        }
      ]
    },
    {
      "cell_type": "code",
      "metadata": {
        "colab": {
          "base_uri": "https://localhost:8080/"
        },
        "id": "cRxIlHvcacjg",
        "outputId": "7501ded3-64d3-4bc7-8afd-5c2bf22a6219"
      },
      "source": [
        "print(f'Shape of Features from VGG Pretrained {vgg_features_train.shape}')"
      ],
      "execution_count": 26,
      "outputs": [
        {
          "output_type": "stream",
          "text": [
            "Shape of Features from VGG Pretrained (10000, 7, 7, 512)\n"
          ],
          "name": "stdout"
        }
      ]
    },
    {
      "cell_type": "code",
      "metadata": {
        "id": "vIs-xcj-ZEpE"
      },
      "source": [
        "#OHE for target column\n",
        "from tensorflow.keras.utils import to_categorical\n",
        "train_target = to_categorical(train.labels)\n",
        "val_target = to_categorical(val.labels)\n"
      ],
      "execution_count": 17,
      "outputs": []
    },
    {
      "cell_type": "code",
      "metadata": {
        "id": "Zhj0g16zZdNo"
      },
      "source": [
        "from tensorflow.keras.layers import BatchNormalization\n",
        "\n",
        "def vgg_model():\n",
        "  #Only the final Dense Portion of the model\n",
        "\n",
        "  model = Sequential()\n",
        "  model.add(Flatten(input_shape=(7,7,512)))\n",
        "  model.add(Dense(100, activation='relu'))\n",
        "  model.add(Dropout(0.5))\n",
        "  #Normalize Output of Previous Layer for a batch\n",
        "  # Tackles values getting too large and too small\n",
        "  model.add(BatchNormalization())\n",
        "  model.add(Dense(10,activation='softmax'))\n",
        "\n",
        "  model.compile(loss='categorical_crossentropy',\n",
        "                optimizer='adam',\n",
        "                metrics=['accuracy'])\n",
        "  return model\n"
      ],
      "execution_count": 35,
      "outputs": []
    },
    {
      "cell_type": "code",
      "metadata": {
        "colab": {
          "base_uri": "https://localhost:8080/"
        },
        "id": "p94wCeTTaGpl",
        "outputId": "53390e3d-6980-4bfe-b85b-cc7d8c50f54a"
      },
      "source": [
        "vgg_model = vgg_model()\n",
        "vgg_model.summary()"
      ],
      "execution_count": 36,
      "outputs": [
        {
          "output_type": "stream",
          "text": [
            "Model: \"sequential_1\"\n",
            "_________________________________________________________________\n",
            "Layer (type)                 Output Shape              Param #   \n",
            "=================================================================\n",
            "flatten_1 (Flatten)          (None, 25088)             0         \n",
            "_________________________________________________________________\n",
            "dense (Dense)                (None, 100)               2508900   \n",
            "_________________________________________________________________\n",
            "dropout (Dropout)            (None, 100)               0         \n",
            "_________________________________________________________________\n",
            "batch_normalization (BatchNo (None, 100)               400       \n",
            "_________________________________________________________________\n",
            "dense_1 (Dense)              (None, 10)                1010      \n",
            "=================================================================\n",
            "Total params: 2,510,310\n",
            "Trainable params: 2,510,110\n",
            "Non-trainable params: 200\n",
            "_________________________________________________________________\n"
          ],
          "name": "stdout"
        }
      ]
    },
    {
      "cell_type": "code",
      "metadata": {
        "colab": {
          "base_uri": "https://localhost:8080/"
        },
        "id": "Stlq6sK6osFC",
        "outputId": "5359798b-52ca-4f52-b31a-ec5738d27091"
      },
      "source": [
        "vgg_model.fit(vgg_features_train, \n",
        "              train_target,\n",
        "              epochs=20,\n",
        "              validation_data=(vgg_features_val,val_target),\n",
        "              verbose=1)"
      ],
      "execution_count": 37,
      "outputs": [
        {
          "output_type": "stream",
          "text": [
            "Epoch 1/20\n",
            "313/313 [==============================] - 7s 18ms/step - loss: 0.8294 - accuracy: 0.7551 - val_loss: 0.1163 - val_accuracy: 0.9770\n",
            "Epoch 2/20\n",
            "313/313 [==============================] - 6s 18ms/step - loss: 0.1412 - accuracy: 0.9746 - val_loss: 0.0673 - val_accuracy: 0.9855\n",
            "Epoch 3/20\n",
            "313/313 [==============================] - 6s 18ms/step - loss: 0.0682 - accuracy: 0.9898 - val_loss: 0.0561 - val_accuracy: 0.9865\n",
            "Epoch 4/20\n",
            "313/313 [==============================] - 6s 18ms/step - loss: 0.0476 - accuracy: 0.9917 - val_loss: 0.0527 - val_accuracy: 0.9835\n",
            "Epoch 5/20\n",
            "313/313 [==============================] - 6s 19ms/step - loss: 0.0345 - accuracy: 0.9953 - val_loss: 0.0473 - val_accuracy: 0.9870\n",
            "Epoch 6/20\n",
            "313/313 [==============================] - 6s 18ms/step - loss: 0.0314 - accuracy: 0.9933 - val_loss: 0.0469 - val_accuracy: 0.9860\n",
            "Epoch 7/20\n",
            "313/313 [==============================] - 6s 18ms/step - loss: 0.0306 - accuracy: 0.9931 - val_loss: 0.0434 - val_accuracy: 0.9865\n",
            "Epoch 8/20\n",
            "313/313 [==============================] - 6s 18ms/step - loss: 0.0292 - accuracy: 0.9930 - val_loss: 0.0484 - val_accuracy: 0.9835\n",
            "Epoch 9/20\n",
            "313/313 [==============================] - 6s 18ms/step - loss: 0.0246 - accuracy: 0.9935 - val_loss: 0.0407 - val_accuracy: 0.9835\n",
            "Epoch 10/20\n",
            "313/313 [==============================] - 6s 18ms/step - loss: 0.0209 - accuracy: 0.9950 - val_loss: 0.0448 - val_accuracy: 0.9860\n",
            "Epoch 11/20\n",
            "313/313 [==============================] - 6s 18ms/step - loss: 0.0211 - accuracy: 0.9933 - val_loss: 0.0408 - val_accuracy: 0.9855\n",
            "Epoch 12/20\n",
            "313/313 [==============================] - 6s 18ms/step - loss: 0.0183 - accuracy: 0.9957 - val_loss: 0.0442 - val_accuracy: 0.9855\n",
            "Epoch 13/20\n",
            "313/313 [==============================] - 6s 18ms/step - loss: 0.0149 - accuracy: 0.9966 - val_loss: 0.0423 - val_accuracy: 0.9850\n",
            "Epoch 14/20\n",
            "313/313 [==============================] - 6s 18ms/step - loss: 0.0173 - accuracy: 0.9961 - val_loss: 0.0668 - val_accuracy: 0.9825\n",
            "Epoch 15/20\n",
            "313/313 [==============================] - 6s 18ms/step - loss: 0.0174 - accuracy: 0.9936 - val_loss: 0.0499 - val_accuracy: 0.9835\n",
            "Epoch 16/20\n",
            "313/313 [==============================] - 6s 18ms/step - loss: 0.0260 - accuracy: 0.9906 - val_loss: 0.0446 - val_accuracy: 0.9845\n",
            "Epoch 17/20\n",
            "313/313 [==============================] - 6s 18ms/step - loss: 0.0209 - accuracy: 0.9945 - val_loss: 0.0475 - val_accuracy: 0.9840\n",
            "Epoch 18/20\n",
            "313/313 [==============================] - 6s 18ms/step - loss: 0.0204 - accuracy: 0.9947 - val_loss: 0.0391 - val_accuracy: 0.9850\n",
            "Epoch 19/20\n",
            "313/313 [==============================] - 6s 18ms/step - loss: 0.0139 - accuracy: 0.9960 - val_loss: 0.0407 - val_accuracy: 0.9850\n",
            "Epoch 20/20\n",
            "313/313 [==============================] - 6s 18ms/step - loss: 0.0126 - accuracy: 0.9967 - val_loss: 0.0484 - val_accuracy: 0.9845\n"
          ],
          "name": "stdout"
        },
        {
          "output_type": "execute_result",
          "data": {
            "text/plain": [
              "<tensorflow.python.keras.callbacks.History at 0x7fe8733cd590>"
            ]
          },
          "metadata": {
            "tags": []
          },
          "execution_count": 37
        }
      ]
    },
    {
      "cell_type": "code",
      "metadata": {
        "id": "G7zOaI4FueGD"
      },
      "source": [
        ""
      ],
      "execution_count": null,
      "outputs": []
    },
    {
      "cell_type": "markdown",
      "metadata": {
        "id": "B8vMz9QebBQM"
      },
      "source": [
        "**VGG** to **RESNet**\n",
        "\n",
        "```Problem with very deep layers\n",
        "Additional layers may not be adding much value\n",
        "Possible Reason may be vanishing gradient\n",
        "Improved with Batch Normalization\n",
        "```\n",
        "\n",
        "Another option is Residual Block\n",
        "1. Uses Skip Connections\n",
        "2. Adds output from previous layer to layer ahead\n",
        "3. Need to ensure dimensions of further layers is same as skip connection shape\n",
        "4. Can be done with using appropriate Number of Kernels"
      ]
    },
    {
      "cell_type": "code",
      "metadata": {
        "id": "CtXq6sIGhMrr"
      },
      "source": [
        "def baseline_model():\n",
        "  model = Sequential()\n",
        "  model.add(Input(input_shape=(224,224,3)))\n",
        "  \n",
        "  #Block1\n",
        "  model.add(Conv2D(25, (5,5), activation='relu', strides=(1,1), padding='same'))\n",
        "  model.add(MaxPooling2D(pool_size=(2,2), padding='same'))\n",
        "  \n",
        "  #Block2\n",
        "  model.add(Conv2D(50, (5,5), activation='relu', strides=(2,2), padding='same'))\n",
        "  model.add(MaxPooling2D(pool_size=(2,2), padding='same'))\n",
        "  model.add(BatchNormalization())\n",
        "\n",
        "  #Block3\n",
        "  model.add(Conv2D(70, (3,3), activation='relu', strides=(2,2), padding='same'))\n",
        "  model.add(MaxPooling2D(pool_size=(2,2), padding='valid'))\n",
        "  model.add(BatchNormalization())\n",
        "\n",
        "  model.add(Flatten())\n",
        "  model.add(Dense(units=100, activation='relu'))\n",
        "  model.add(Dense(units=100, activation='relu'))\n",
        "  model.add(Dropout(0.25))\n",
        "  model.add(Dense(units=10, activation='softmax'))\n",
        "\n",
        "  model.compile(loss='categorical_crossentropy',\n",
        "                optimizer='adam', \n",
        "                metrics=['accuracy'])\n",
        "  return model"
      ],
      "execution_count": 41,
      "outputs": []
    },
    {
      "cell_type": "code",
      "metadata": {
        "colab": {
          "base_uri": "https://localhost:8080/",
          "height": 323
        },
        "id": "bXkAOlFCmuIZ",
        "outputId": "f73bf022-6af0-4518-a8ea-e48171001c8b"
      },
      "source": [
        "baseline = baseline_model()\n",
        "baseline.summary()"
      ],
      "execution_count": 42,
      "outputs": [
        {
          "output_type": "error",
          "ename": "ValueError",
          "evalue": "ignored",
          "traceback": [
            "\u001b[0;31m---------------------------------------------------------------------------\u001b[0m",
            "\u001b[0;31mValueError\u001b[0m                                Traceback (most recent call last)",
            "\u001b[0;32m<ipython-input-42-91e1782c1383>\u001b[0m in \u001b[0;36m<module>\u001b[0;34m()\u001b[0m\n\u001b[0;32m----> 1\u001b[0;31m \u001b[0mbaseline\u001b[0m \u001b[0;34m=\u001b[0m \u001b[0mbaseline_model\u001b[0m\u001b[0;34m(\u001b[0m\u001b[0;34m)\u001b[0m\u001b[0;34m\u001b[0m\u001b[0;34m\u001b[0m\u001b[0m\n\u001b[0m\u001b[1;32m      2\u001b[0m \u001b[0mbaseline\u001b[0m\u001b[0;34m.\u001b[0m\u001b[0msummary\u001b[0m\u001b[0;34m(\u001b[0m\u001b[0;34m)\u001b[0m\u001b[0;34m\u001b[0m\u001b[0;34m\u001b[0m\u001b[0m\n",
            "\u001b[0;32m<ipython-input-41-282c04c5d59f>\u001b[0m in \u001b[0;36mbaseline_model\u001b[0;34m()\u001b[0m\n\u001b[1;32m      1\u001b[0m \u001b[0;32mdef\u001b[0m \u001b[0mbaseline_model\u001b[0m\u001b[0;34m(\u001b[0m\u001b[0;34m)\u001b[0m\u001b[0;34m:\u001b[0m\u001b[0;34m\u001b[0m\u001b[0;34m\u001b[0m\u001b[0m\n\u001b[1;32m      2\u001b[0m   \u001b[0mmodel\u001b[0m \u001b[0;34m=\u001b[0m \u001b[0mSequential\u001b[0m\u001b[0;34m(\u001b[0m\u001b[0;34m)\u001b[0m\u001b[0;34m\u001b[0m\u001b[0;34m\u001b[0m\u001b[0m\n\u001b[0;32m----> 3\u001b[0;31m   \u001b[0mmodel\u001b[0m\u001b[0;34m.\u001b[0m\u001b[0madd\u001b[0m\u001b[0;34m(\u001b[0m\u001b[0mInput\u001b[0m\u001b[0;34m(\u001b[0m\u001b[0minput_shape\u001b[0m\u001b[0;34m=\u001b[0m\u001b[0;34m(\u001b[0m\u001b[0;36m224\u001b[0m\u001b[0;34m,\u001b[0m\u001b[0;36m224\u001b[0m\u001b[0;34m,\u001b[0m\u001b[0;36m3\u001b[0m\u001b[0;34m)\u001b[0m\u001b[0;34m)\u001b[0m\u001b[0;34m)\u001b[0m\u001b[0;34m\u001b[0m\u001b[0;34m\u001b[0m\u001b[0m\n\u001b[0m\u001b[1;32m      4\u001b[0m \u001b[0;34m\u001b[0m\u001b[0m\n\u001b[1;32m      5\u001b[0m   \u001b[0;31m#Block1\u001b[0m\u001b[0;34m\u001b[0m\u001b[0;34m\u001b[0m\u001b[0;34m\u001b[0m\u001b[0m\n",
            "\u001b[0;32m/usr/local/lib/python3.7/dist-packages/tensorflow/python/keras/engine/input_layer.py\u001b[0m in \u001b[0;36mInput\u001b[0;34m(shape, batch_size, name, dtype, sparse, tensor, ragged, **kwargs)\u001b[0m\n\u001b[1;32m    294\u001b[0m                      'to Input, not both at the same time.')\n\u001b[1;32m    295\u001b[0m   \u001b[0;32mif\u001b[0m \u001b[0mbatch_input_shape\u001b[0m \u001b[0;32mis\u001b[0m \u001b[0;32mNone\u001b[0m \u001b[0;32mand\u001b[0m \u001b[0mshape\u001b[0m \u001b[0;32mis\u001b[0m \u001b[0;32mNone\u001b[0m \u001b[0;32mand\u001b[0m \u001b[0mtensor\u001b[0m \u001b[0;32mis\u001b[0m \u001b[0;32mNone\u001b[0m\u001b[0;34m:\u001b[0m\u001b[0;34m\u001b[0m\u001b[0;34m\u001b[0m\u001b[0m\n\u001b[0;32m--> 296\u001b[0;31m     raise ValueError('Please provide to Input either a `shape`'\n\u001b[0m\u001b[1;32m    297\u001b[0m                      \u001b[0;34m' or a `tensor` argument. Note that '\u001b[0m\u001b[0;34m\u001b[0m\u001b[0;34m\u001b[0m\u001b[0m\n\u001b[1;32m    298\u001b[0m                      \u001b[0;34m'`shape` does not include the batch '\u001b[0m\u001b[0;34m\u001b[0m\u001b[0;34m\u001b[0m\u001b[0m\n",
            "\u001b[0;31mValueError\u001b[0m: Please provide to Input either a `shape` or a `tensor` argument. Note that `shape` does not include the batch dimension."
          ]
        }
      ]
    },
    {
      "cell_type": "code",
      "metadata": {
        "colab": {
          "base_uri": "https://localhost:8080/"
        },
        "id": "XSpU2paXoF72",
        "outputId": "27c7ce91-c625-4ef8-a082-c2d0ab180f3d"
      },
      "source": [
        "resnet_pretrained = tf.keras.applications.ResNet50(include_top=False,weights='imagenet')\n",
        "resnet_pretrained.summary()"
      ],
      "execution_count": 6,
      "outputs": [
        {
          "output_type": "stream",
          "text": [
            "Model: \"resnet50\"\n",
            "__________________________________________________________________________________________________\n",
            "Layer (type)                    Output Shape         Param #     Connected to                     \n",
            "==================================================================================================\n",
            "input_1 (InputLayer)            [(None, None, None,  0                                            \n",
            "__________________________________________________________________________________________________\n",
            "conv1_pad (ZeroPadding2D)       (None, None, None, 3 0           input_1[0][0]                    \n",
            "__________________________________________________________________________________________________\n",
            "conv1_conv (Conv2D)             (None, None, None, 6 9472        conv1_pad[0][0]                  \n",
            "__________________________________________________________________________________________________\n",
            "conv1_bn (BatchNormalization)   (None, None, None, 6 256         conv1_conv[0][0]                 \n",
            "__________________________________________________________________________________________________\n",
            "conv1_relu (Activation)         (None, None, None, 6 0           conv1_bn[0][0]                   \n",
            "__________________________________________________________________________________________________\n",
            "pool1_pad (ZeroPadding2D)       (None, None, None, 6 0           conv1_relu[0][0]                 \n",
            "__________________________________________________________________________________________________\n",
            "pool1_pool (MaxPooling2D)       (None, None, None, 6 0           pool1_pad[0][0]                  \n",
            "__________________________________________________________________________________________________\n",
            "conv2_block1_1_conv (Conv2D)    (None, None, None, 6 4160        pool1_pool[0][0]                 \n",
            "__________________________________________________________________________________________________\n",
            "conv2_block1_1_bn (BatchNormali (None, None, None, 6 256         conv2_block1_1_conv[0][0]        \n",
            "__________________________________________________________________________________________________\n",
            "conv2_block1_1_relu (Activation (None, None, None, 6 0           conv2_block1_1_bn[0][0]          \n",
            "__________________________________________________________________________________________________\n",
            "conv2_block1_2_conv (Conv2D)    (None, None, None, 6 36928       conv2_block1_1_relu[0][0]        \n",
            "__________________________________________________________________________________________________\n",
            "conv2_block1_2_bn (BatchNormali (None, None, None, 6 256         conv2_block1_2_conv[0][0]        \n",
            "__________________________________________________________________________________________________\n",
            "conv2_block1_2_relu (Activation (None, None, None, 6 0           conv2_block1_2_bn[0][0]          \n",
            "__________________________________________________________________________________________________\n",
            "conv2_block1_0_conv (Conv2D)    (None, None, None, 2 16640       pool1_pool[0][0]                 \n",
            "__________________________________________________________________________________________________\n",
            "conv2_block1_3_conv (Conv2D)    (None, None, None, 2 16640       conv2_block1_2_relu[0][0]        \n",
            "__________________________________________________________________________________________________\n",
            "conv2_block1_0_bn (BatchNormali (None, None, None, 2 1024        conv2_block1_0_conv[0][0]        \n",
            "__________________________________________________________________________________________________\n",
            "conv2_block1_3_bn (BatchNormali (None, None, None, 2 1024        conv2_block1_3_conv[0][0]        \n",
            "__________________________________________________________________________________________________\n",
            "conv2_block1_add (Add)          (None, None, None, 2 0           conv2_block1_0_bn[0][0]          \n",
            "                                                                 conv2_block1_3_bn[0][0]          \n",
            "__________________________________________________________________________________________________\n",
            "conv2_block1_out (Activation)   (None, None, None, 2 0           conv2_block1_add[0][0]           \n",
            "__________________________________________________________________________________________________\n",
            "conv2_block2_1_conv (Conv2D)    (None, None, None, 6 16448       conv2_block1_out[0][0]           \n",
            "__________________________________________________________________________________________________\n",
            "conv2_block2_1_bn (BatchNormali (None, None, None, 6 256         conv2_block2_1_conv[0][0]        \n",
            "__________________________________________________________________________________________________\n",
            "conv2_block2_1_relu (Activation (None, None, None, 6 0           conv2_block2_1_bn[0][0]          \n",
            "__________________________________________________________________________________________________\n",
            "conv2_block2_2_conv (Conv2D)    (None, None, None, 6 36928       conv2_block2_1_relu[0][0]        \n",
            "__________________________________________________________________________________________________\n",
            "conv2_block2_2_bn (BatchNormali (None, None, None, 6 256         conv2_block2_2_conv[0][0]        \n",
            "__________________________________________________________________________________________________\n",
            "conv2_block2_2_relu (Activation (None, None, None, 6 0           conv2_block2_2_bn[0][0]          \n",
            "__________________________________________________________________________________________________\n",
            "conv2_block2_3_conv (Conv2D)    (None, None, None, 2 16640       conv2_block2_2_relu[0][0]        \n",
            "__________________________________________________________________________________________________\n",
            "conv2_block2_3_bn (BatchNormali (None, None, None, 2 1024        conv2_block2_3_conv[0][0]        \n",
            "__________________________________________________________________________________________________\n",
            "conv2_block2_add (Add)          (None, None, None, 2 0           conv2_block1_out[0][0]           \n",
            "                                                                 conv2_block2_3_bn[0][0]          \n",
            "__________________________________________________________________________________________________\n",
            "conv2_block2_out (Activation)   (None, None, None, 2 0           conv2_block2_add[0][0]           \n",
            "__________________________________________________________________________________________________\n",
            "conv2_block3_1_conv (Conv2D)    (None, None, None, 6 16448       conv2_block2_out[0][0]           \n",
            "__________________________________________________________________________________________________\n",
            "conv2_block3_1_bn (BatchNormali (None, None, None, 6 256         conv2_block3_1_conv[0][0]        \n",
            "__________________________________________________________________________________________________\n",
            "conv2_block3_1_relu (Activation (None, None, None, 6 0           conv2_block3_1_bn[0][0]          \n",
            "__________________________________________________________________________________________________\n",
            "conv2_block3_2_conv (Conv2D)    (None, None, None, 6 36928       conv2_block3_1_relu[0][0]        \n",
            "__________________________________________________________________________________________________\n",
            "conv2_block3_2_bn (BatchNormali (None, None, None, 6 256         conv2_block3_2_conv[0][0]        \n",
            "__________________________________________________________________________________________________\n",
            "conv2_block3_2_relu (Activation (None, None, None, 6 0           conv2_block3_2_bn[0][0]          \n",
            "__________________________________________________________________________________________________\n",
            "conv2_block3_3_conv (Conv2D)    (None, None, None, 2 16640       conv2_block3_2_relu[0][0]        \n",
            "__________________________________________________________________________________________________\n",
            "conv2_block3_3_bn (BatchNormali (None, None, None, 2 1024        conv2_block3_3_conv[0][0]        \n",
            "__________________________________________________________________________________________________\n",
            "conv2_block3_add (Add)          (None, None, None, 2 0           conv2_block2_out[0][0]           \n",
            "                                                                 conv2_block3_3_bn[0][0]          \n",
            "__________________________________________________________________________________________________\n",
            "conv2_block3_out (Activation)   (None, None, None, 2 0           conv2_block3_add[0][0]           \n",
            "__________________________________________________________________________________________________\n",
            "conv3_block1_1_conv (Conv2D)    (None, None, None, 1 32896       conv2_block3_out[0][0]           \n",
            "__________________________________________________________________________________________________\n",
            "conv3_block1_1_bn (BatchNormali (None, None, None, 1 512         conv3_block1_1_conv[0][0]        \n",
            "__________________________________________________________________________________________________\n",
            "conv3_block1_1_relu (Activation (None, None, None, 1 0           conv3_block1_1_bn[0][0]          \n",
            "__________________________________________________________________________________________________\n",
            "conv3_block1_2_conv (Conv2D)    (None, None, None, 1 147584      conv3_block1_1_relu[0][0]        \n",
            "__________________________________________________________________________________________________\n",
            "conv3_block1_2_bn (BatchNormali (None, None, None, 1 512         conv3_block1_2_conv[0][0]        \n",
            "__________________________________________________________________________________________________\n",
            "conv3_block1_2_relu (Activation (None, None, None, 1 0           conv3_block1_2_bn[0][0]          \n",
            "__________________________________________________________________________________________________\n",
            "conv3_block1_0_conv (Conv2D)    (None, None, None, 5 131584      conv2_block3_out[0][0]           \n",
            "__________________________________________________________________________________________________\n",
            "conv3_block1_3_conv (Conv2D)    (None, None, None, 5 66048       conv3_block1_2_relu[0][0]        \n",
            "__________________________________________________________________________________________________\n",
            "conv3_block1_0_bn (BatchNormali (None, None, None, 5 2048        conv3_block1_0_conv[0][0]        \n",
            "__________________________________________________________________________________________________\n",
            "conv3_block1_3_bn (BatchNormali (None, None, None, 5 2048        conv3_block1_3_conv[0][0]        \n",
            "__________________________________________________________________________________________________\n",
            "conv3_block1_add (Add)          (None, None, None, 5 0           conv3_block1_0_bn[0][0]          \n",
            "                                                                 conv3_block1_3_bn[0][0]          \n",
            "__________________________________________________________________________________________________\n",
            "conv3_block1_out (Activation)   (None, None, None, 5 0           conv3_block1_add[0][0]           \n",
            "__________________________________________________________________________________________________\n",
            "conv3_block2_1_conv (Conv2D)    (None, None, None, 1 65664       conv3_block1_out[0][0]           \n",
            "__________________________________________________________________________________________________\n",
            "conv3_block2_1_bn (BatchNormali (None, None, None, 1 512         conv3_block2_1_conv[0][0]        \n",
            "__________________________________________________________________________________________________\n",
            "conv3_block2_1_relu (Activation (None, None, None, 1 0           conv3_block2_1_bn[0][0]          \n",
            "__________________________________________________________________________________________________\n",
            "conv3_block2_2_conv (Conv2D)    (None, None, None, 1 147584      conv3_block2_1_relu[0][0]        \n",
            "__________________________________________________________________________________________________\n",
            "conv3_block2_2_bn (BatchNormali (None, None, None, 1 512         conv3_block2_2_conv[0][0]        \n",
            "__________________________________________________________________________________________________\n",
            "conv3_block2_2_relu (Activation (None, None, None, 1 0           conv3_block2_2_bn[0][0]          \n",
            "__________________________________________________________________________________________________\n",
            "conv3_block2_3_conv (Conv2D)    (None, None, None, 5 66048       conv3_block2_2_relu[0][0]        \n",
            "__________________________________________________________________________________________________\n",
            "conv3_block2_3_bn (BatchNormali (None, None, None, 5 2048        conv3_block2_3_conv[0][0]        \n",
            "__________________________________________________________________________________________________\n",
            "conv3_block2_add (Add)          (None, None, None, 5 0           conv3_block1_out[0][0]           \n",
            "                                                                 conv3_block2_3_bn[0][0]          \n",
            "__________________________________________________________________________________________________\n",
            "conv3_block2_out (Activation)   (None, None, None, 5 0           conv3_block2_add[0][0]           \n",
            "__________________________________________________________________________________________________\n",
            "conv3_block3_1_conv (Conv2D)    (None, None, None, 1 65664       conv3_block2_out[0][0]           \n",
            "__________________________________________________________________________________________________\n",
            "conv3_block3_1_bn (BatchNormali (None, None, None, 1 512         conv3_block3_1_conv[0][0]        \n",
            "__________________________________________________________________________________________________\n",
            "conv3_block3_1_relu (Activation (None, None, None, 1 0           conv3_block3_1_bn[0][0]          \n",
            "__________________________________________________________________________________________________\n",
            "conv3_block3_2_conv (Conv2D)    (None, None, None, 1 147584      conv3_block3_1_relu[0][0]        \n",
            "__________________________________________________________________________________________________\n",
            "conv3_block3_2_bn (BatchNormali (None, None, None, 1 512         conv3_block3_2_conv[0][0]        \n",
            "__________________________________________________________________________________________________\n",
            "conv3_block3_2_relu (Activation (None, None, None, 1 0           conv3_block3_2_bn[0][0]          \n",
            "__________________________________________________________________________________________________\n",
            "conv3_block3_3_conv (Conv2D)    (None, None, None, 5 66048       conv3_block3_2_relu[0][0]        \n",
            "__________________________________________________________________________________________________\n",
            "conv3_block3_3_bn (BatchNormali (None, None, None, 5 2048        conv3_block3_3_conv[0][0]        \n",
            "__________________________________________________________________________________________________\n",
            "conv3_block3_add (Add)          (None, None, None, 5 0           conv3_block2_out[0][0]           \n",
            "                                                                 conv3_block3_3_bn[0][0]          \n",
            "__________________________________________________________________________________________________\n",
            "conv3_block3_out (Activation)   (None, None, None, 5 0           conv3_block3_add[0][0]           \n",
            "__________________________________________________________________________________________________\n",
            "conv3_block4_1_conv (Conv2D)    (None, None, None, 1 65664       conv3_block3_out[0][0]           \n",
            "__________________________________________________________________________________________________\n",
            "conv3_block4_1_bn (BatchNormali (None, None, None, 1 512         conv3_block4_1_conv[0][0]        \n",
            "__________________________________________________________________________________________________\n",
            "conv3_block4_1_relu (Activation (None, None, None, 1 0           conv3_block4_1_bn[0][0]          \n",
            "__________________________________________________________________________________________________\n",
            "conv3_block4_2_conv (Conv2D)    (None, None, None, 1 147584      conv3_block4_1_relu[0][0]        \n",
            "__________________________________________________________________________________________________\n",
            "conv3_block4_2_bn (BatchNormali (None, None, None, 1 512         conv3_block4_2_conv[0][0]        \n",
            "__________________________________________________________________________________________________\n",
            "conv3_block4_2_relu (Activation (None, None, None, 1 0           conv3_block4_2_bn[0][0]          \n",
            "__________________________________________________________________________________________________\n",
            "conv3_block4_3_conv (Conv2D)    (None, None, None, 5 66048       conv3_block4_2_relu[0][0]        \n",
            "__________________________________________________________________________________________________\n",
            "conv3_block4_3_bn (BatchNormali (None, None, None, 5 2048        conv3_block4_3_conv[0][0]        \n",
            "__________________________________________________________________________________________________\n",
            "conv3_block4_add (Add)          (None, None, None, 5 0           conv3_block3_out[0][0]           \n",
            "                                                                 conv3_block4_3_bn[0][0]          \n",
            "__________________________________________________________________________________________________\n",
            "conv3_block4_out (Activation)   (None, None, None, 5 0           conv3_block4_add[0][0]           \n",
            "__________________________________________________________________________________________________\n",
            "conv4_block1_1_conv (Conv2D)    (None, None, None, 2 131328      conv3_block4_out[0][0]           \n",
            "__________________________________________________________________________________________________\n",
            "conv4_block1_1_bn (BatchNormali (None, None, None, 2 1024        conv4_block1_1_conv[0][0]        \n",
            "__________________________________________________________________________________________________\n",
            "conv4_block1_1_relu (Activation (None, None, None, 2 0           conv4_block1_1_bn[0][0]          \n",
            "__________________________________________________________________________________________________\n",
            "conv4_block1_2_conv (Conv2D)    (None, None, None, 2 590080      conv4_block1_1_relu[0][0]        \n",
            "__________________________________________________________________________________________________\n",
            "conv4_block1_2_bn (BatchNormali (None, None, None, 2 1024        conv4_block1_2_conv[0][0]        \n",
            "__________________________________________________________________________________________________\n",
            "conv4_block1_2_relu (Activation (None, None, None, 2 0           conv4_block1_2_bn[0][0]          \n",
            "__________________________________________________________________________________________________\n",
            "conv4_block1_0_conv (Conv2D)    (None, None, None, 1 525312      conv3_block4_out[0][0]           \n",
            "__________________________________________________________________________________________________\n",
            "conv4_block1_3_conv (Conv2D)    (None, None, None, 1 263168      conv4_block1_2_relu[0][0]        \n",
            "__________________________________________________________________________________________________\n",
            "conv4_block1_0_bn (BatchNormali (None, None, None, 1 4096        conv4_block1_0_conv[0][0]        \n",
            "__________________________________________________________________________________________________\n",
            "conv4_block1_3_bn (BatchNormali (None, None, None, 1 4096        conv4_block1_3_conv[0][0]        \n",
            "__________________________________________________________________________________________________\n",
            "conv4_block1_add (Add)          (None, None, None, 1 0           conv4_block1_0_bn[0][0]          \n",
            "                                                                 conv4_block1_3_bn[0][0]          \n",
            "__________________________________________________________________________________________________\n",
            "conv4_block1_out (Activation)   (None, None, None, 1 0           conv4_block1_add[0][0]           \n",
            "__________________________________________________________________________________________________\n",
            "conv4_block2_1_conv (Conv2D)    (None, None, None, 2 262400      conv4_block1_out[0][0]           \n",
            "__________________________________________________________________________________________________\n",
            "conv4_block2_1_bn (BatchNormali (None, None, None, 2 1024        conv4_block2_1_conv[0][0]        \n",
            "__________________________________________________________________________________________________\n",
            "conv4_block2_1_relu (Activation (None, None, None, 2 0           conv4_block2_1_bn[0][0]          \n",
            "__________________________________________________________________________________________________\n",
            "conv4_block2_2_conv (Conv2D)    (None, None, None, 2 590080      conv4_block2_1_relu[0][0]        \n",
            "__________________________________________________________________________________________________\n",
            "conv4_block2_2_bn (BatchNormali (None, None, None, 2 1024        conv4_block2_2_conv[0][0]        \n",
            "__________________________________________________________________________________________________\n",
            "conv4_block2_2_relu (Activation (None, None, None, 2 0           conv4_block2_2_bn[0][0]          \n",
            "__________________________________________________________________________________________________\n",
            "conv4_block2_3_conv (Conv2D)    (None, None, None, 1 263168      conv4_block2_2_relu[0][0]        \n",
            "__________________________________________________________________________________________________\n",
            "conv4_block2_3_bn (BatchNormali (None, None, None, 1 4096        conv4_block2_3_conv[0][0]        \n",
            "__________________________________________________________________________________________________\n",
            "conv4_block2_add (Add)          (None, None, None, 1 0           conv4_block1_out[0][0]           \n",
            "                                                                 conv4_block2_3_bn[0][0]          \n",
            "__________________________________________________________________________________________________\n",
            "conv4_block2_out (Activation)   (None, None, None, 1 0           conv4_block2_add[0][0]           \n",
            "__________________________________________________________________________________________________\n",
            "conv4_block3_1_conv (Conv2D)    (None, None, None, 2 262400      conv4_block2_out[0][0]           \n",
            "__________________________________________________________________________________________________\n",
            "conv4_block3_1_bn (BatchNormali (None, None, None, 2 1024        conv4_block3_1_conv[0][0]        \n",
            "__________________________________________________________________________________________________\n",
            "conv4_block3_1_relu (Activation (None, None, None, 2 0           conv4_block3_1_bn[0][0]          \n",
            "__________________________________________________________________________________________________\n",
            "conv4_block3_2_conv (Conv2D)    (None, None, None, 2 590080      conv4_block3_1_relu[0][0]        \n",
            "__________________________________________________________________________________________________\n",
            "conv4_block3_2_bn (BatchNormali (None, None, None, 2 1024        conv4_block3_2_conv[0][0]        \n",
            "__________________________________________________________________________________________________\n",
            "conv4_block3_2_relu (Activation (None, None, None, 2 0           conv4_block3_2_bn[0][0]          \n",
            "__________________________________________________________________________________________________\n",
            "conv4_block3_3_conv (Conv2D)    (None, None, None, 1 263168      conv4_block3_2_relu[0][0]        \n",
            "__________________________________________________________________________________________________\n",
            "conv4_block3_3_bn (BatchNormali (None, None, None, 1 4096        conv4_block3_3_conv[0][0]        \n",
            "__________________________________________________________________________________________________\n",
            "conv4_block3_add (Add)          (None, None, None, 1 0           conv4_block2_out[0][0]           \n",
            "                                                                 conv4_block3_3_bn[0][0]          \n",
            "__________________________________________________________________________________________________\n",
            "conv4_block3_out (Activation)   (None, None, None, 1 0           conv4_block3_add[0][0]           \n",
            "__________________________________________________________________________________________________\n",
            "conv4_block4_1_conv (Conv2D)    (None, None, None, 2 262400      conv4_block3_out[0][0]           \n",
            "__________________________________________________________________________________________________\n",
            "conv4_block4_1_bn (BatchNormali (None, None, None, 2 1024        conv4_block4_1_conv[0][0]        \n",
            "__________________________________________________________________________________________________\n",
            "conv4_block4_1_relu (Activation (None, None, None, 2 0           conv4_block4_1_bn[0][0]          \n",
            "__________________________________________________________________________________________________\n",
            "conv4_block4_2_conv (Conv2D)    (None, None, None, 2 590080      conv4_block4_1_relu[0][0]        \n",
            "__________________________________________________________________________________________________\n",
            "conv4_block4_2_bn (BatchNormali (None, None, None, 2 1024        conv4_block4_2_conv[0][0]        \n",
            "__________________________________________________________________________________________________\n",
            "conv4_block4_2_relu (Activation (None, None, None, 2 0           conv4_block4_2_bn[0][0]          \n",
            "__________________________________________________________________________________________________\n",
            "conv4_block4_3_conv (Conv2D)    (None, None, None, 1 263168      conv4_block4_2_relu[0][0]        \n",
            "__________________________________________________________________________________________________\n",
            "conv4_block4_3_bn (BatchNormali (None, None, None, 1 4096        conv4_block4_3_conv[0][0]        \n",
            "__________________________________________________________________________________________________\n",
            "conv4_block4_add (Add)          (None, None, None, 1 0           conv4_block3_out[0][0]           \n",
            "                                                                 conv4_block4_3_bn[0][0]          \n",
            "__________________________________________________________________________________________________\n",
            "conv4_block4_out (Activation)   (None, None, None, 1 0           conv4_block4_add[0][0]           \n",
            "__________________________________________________________________________________________________\n",
            "conv4_block5_1_conv (Conv2D)    (None, None, None, 2 262400      conv4_block4_out[0][0]           \n",
            "__________________________________________________________________________________________________\n",
            "conv4_block5_1_bn (BatchNormali (None, None, None, 2 1024        conv4_block5_1_conv[0][0]        \n",
            "__________________________________________________________________________________________________\n",
            "conv4_block5_1_relu (Activation (None, None, None, 2 0           conv4_block5_1_bn[0][0]          \n",
            "__________________________________________________________________________________________________\n",
            "conv4_block5_2_conv (Conv2D)    (None, None, None, 2 590080      conv4_block5_1_relu[0][0]        \n",
            "__________________________________________________________________________________________________\n",
            "conv4_block5_2_bn (BatchNormali (None, None, None, 2 1024        conv4_block5_2_conv[0][0]        \n",
            "__________________________________________________________________________________________________\n",
            "conv4_block5_2_relu (Activation (None, None, None, 2 0           conv4_block5_2_bn[0][0]          \n",
            "__________________________________________________________________________________________________\n",
            "conv4_block5_3_conv (Conv2D)    (None, None, None, 1 263168      conv4_block5_2_relu[0][0]        \n",
            "__________________________________________________________________________________________________\n",
            "conv4_block5_3_bn (BatchNormali (None, None, None, 1 4096        conv4_block5_3_conv[0][0]        \n",
            "__________________________________________________________________________________________________\n",
            "conv4_block5_add (Add)          (None, None, None, 1 0           conv4_block4_out[0][0]           \n",
            "                                                                 conv4_block5_3_bn[0][0]          \n",
            "__________________________________________________________________________________________________\n",
            "conv4_block5_out (Activation)   (None, None, None, 1 0           conv4_block5_add[0][0]           \n",
            "__________________________________________________________________________________________________\n",
            "conv4_block6_1_conv (Conv2D)    (None, None, None, 2 262400      conv4_block5_out[0][0]           \n",
            "__________________________________________________________________________________________________\n",
            "conv4_block6_1_bn (BatchNormali (None, None, None, 2 1024        conv4_block6_1_conv[0][0]        \n",
            "__________________________________________________________________________________________________\n",
            "conv4_block6_1_relu (Activation (None, None, None, 2 0           conv4_block6_1_bn[0][0]          \n",
            "__________________________________________________________________________________________________\n",
            "conv4_block6_2_conv (Conv2D)    (None, None, None, 2 590080      conv4_block6_1_relu[0][0]        \n",
            "__________________________________________________________________________________________________\n",
            "conv4_block6_2_bn (BatchNormali (None, None, None, 2 1024        conv4_block6_2_conv[0][0]        \n",
            "__________________________________________________________________________________________________\n",
            "conv4_block6_2_relu (Activation (None, None, None, 2 0           conv4_block6_2_bn[0][0]          \n",
            "__________________________________________________________________________________________________\n",
            "conv4_block6_3_conv (Conv2D)    (None, None, None, 1 263168      conv4_block6_2_relu[0][0]        \n",
            "__________________________________________________________________________________________________\n",
            "conv4_block6_3_bn (BatchNormali (None, None, None, 1 4096        conv4_block6_3_conv[0][0]        \n",
            "__________________________________________________________________________________________________\n",
            "conv4_block6_add (Add)          (None, None, None, 1 0           conv4_block5_out[0][0]           \n",
            "                                                                 conv4_block6_3_bn[0][0]          \n",
            "__________________________________________________________________________________________________\n",
            "conv4_block6_out (Activation)   (None, None, None, 1 0           conv4_block6_add[0][0]           \n",
            "__________________________________________________________________________________________________\n",
            "conv5_block1_1_conv (Conv2D)    (None, None, None, 5 524800      conv4_block6_out[0][0]           \n",
            "__________________________________________________________________________________________________\n",
            "conv5_block1_1_bn (BatchNormali (None, None, None, 5 2048        conv5_block1_1_conv[0][0]        \n",
            "__________________________________________________________________________________________________\n",
            "conv5_block1_1_relu (Activation (None, None, None, 5 0           conv5_block1_1_bn[0][0]          \n",
            "__________________________________________________________________________________________________\n",
            "conv5_block1_2_conv (Conv2D)    (None, None, None, 5 2359808     conv5_block1_1_relu[0][0]        \n",
            "__________________________________________________________________________________________________\n",
            "conv5_block1_2_bn (BatchNormali (None, None, None, 5 2048        conv5_block1_2_conv[0][0]        \n",
            "__________________________________________________________________________________________________\n",
            "conv5_block1_2_relu (Activation (None, None, None, 5 0           conv5_block1_2_bn[0][0]          \n",
            "__________________________________________________________________________________________________\n",
            "conv5_block1_0_conv (Conv2D)    (None, None, None, 2 2099200     conv4_block6_out[0][0]           \n",
            "__________________________________________________________________________________________________\n",
            "conv5_block1_3_conv (Conv2D)    (None, None, None, 2 1050624     conv5_block1_2_relu[0][0]        \n",
            "__________________________________________________________________________________________________\n",
            "conv5_block1_0_bn (BatchNormali (None, None, None, 2 8192        conv5_block1_0_conv[0][0]        \n",
            "__________________________________________________________________________________________________\n",
            "conv5_block1_3_bn (BatchNormali (None, None, None, 2 8192        conv5_block1_3_conv[0][0]        \n",
            "__________________________________________________________________________________________________\n",
            "conv5_block1_add (Add)          (None, None, None, 2 0           conv5_block1_0_bn[0][0]          \n",
            "                                                                 conv5_block1_3_bn[0][0]          \n",
            "__________________________________________________________________________________________________\n",
            "conv5_block1_out (Activation)   (None, None, None, 2 0           conv5_block1_add[0][0]           \n",
            "__________________________________________________________________________________________________\n",
            "conv5_block2_1_conv (Conv2D)    (None, None, None, 5 1049088     conv5_block1_out[0][0]           \n",
            "__________________________________________________________________________________________________\n",
            "conv5_block2_1_bn (BatchNormali (None, None, None, 5 2048        conv5_block2_1_conv[0][0]        \n",
            "__________________________________________________________________________________________________\n",
            "conv5_block2_1_relu (Activation (None, None, None, 5 0           conv5_block2_1_bn[0][0]          \n",
            "__________________________________________________________________________________________________\n",
            "conv5_block2_2_conv (Conv2D)    (None, None, None, 5 2359808     conv5_block2_1_relu[0][0]        \n",
            "__________________________________________________________________________________________________\n",
            "conv5_block2_2_bn (BatchNormali (None, None, None, 5 2048        conv5_block2_2_conv[0][0]        \n",
            "__________________________________________________________________________________________________\n",
            "conv5_block2_2_relu (Activation (None, None, None, 5 0           conv5_block2_2_bn[0][0]          \n",
            "__________________________________________________________________________________________________\n",
            "conv5_block2_3_conv (Conv2D)    (None, None, None, 2 1050624     conv5_block2_2_relu[0][0]        \n",
            "__________________________________________________________________________________________________\n",
            "conv5_block2_3_bn (BatchNormali (None, None, None, 2 8192        conv5_block2_3_conv[0][0]        \n",
            "__________________________________________________________________________________________________\n",
            "conv5_block2_add (Add)          (None, None, None, 2 0           conv5_block1_out[0][0]           \n",
            "                                                                 conv5_block2_3_bn[0][0]          \n",
            "__________________________________________________________________________________________________\n",
            "conv5_block2_out (Activation)   (None, None, None, 2 0           conv5_block2_add[0][0]           \n",
            "__________________________________________________________________________________________________\n",
            "conv5_block3_1_conv (Conv2D)    (None, None, None, 5 1049088     conv5_block2_out[0][0]           \n",
            "__________________________________________________________________________________________________\n",
            "conv5_block3_1_bn (BatchNormali (None, None, None, 5 2048        conv5_block3_1_conv[0][0]        \n",
            "__________________________________________________________________________________________________\n",
            "conv5_block3_1_relu (Activation (None, None, None, 5 0           conv5_block3_1_bn[0][0]          \n",
            "__________________________________________________________________________________________________\n",
            "conv5_block3_2_conv (Conv2D)    (None, None, None, 5 2359808     conv5_block3_1_relu[0][0]        \n",
            "__________________________________________________________________________________________________\n",
            "conv5_block3_2_bn (BatchNormali (None, None, None, 5 2048        conv5_block3_2_conv[0][0]        \n",
            "__________________________________________________________________________________________________\n",
            "conv5_block3_2_relu (Activation (None, None, None, 5 0           conv5_block3_2_bn[0][0]          \n",
            "__________________________________________________________________________________________________\n",
            "conv5_block3_3_conv (Conv2D)    (None, None, None, 2 1050624     conv5_block3_2_relu[0][0]        \n",
            "__________________________________________________________________________________________________\n",
            "conv5_block3_3_bn (BatchNormali (None, None, None, 2 8192        conv5_block3_3_conv[0][0]        \n",
            "__________________________________________________________________________________________________\n",
            "conv5_block3_add (Add)          (None, None, None, 2 0           conv5_block2_out[0][0]           \n",
            "                                                                 conv5_block3_3_bn[0][0]          \n",
            "__________________________________________________________________________________________________\n",
            "conv5_block3_out (Activation)   (None, None, None, 2 0           conv5_block3_add[0][0]           \n",
            "==================================================================================================\n",
            "Total params: 23,587,712\n",
            "Trainable params: 23,534,592\n",
            "Non-trainable params: 53,120\n",
            "__________________________________________________________________________________________________\n"
          ],
          "name": "stdout"
        }
      ]
    },
    {
      "cell_type": "code",
      "metadata": {
        "colab": {
          "base_uri": "https://localhost:8080/"
        },
        "id": "XgJNzmoTvMH3",
        "outputId": "e6a84553-bf78-4abc-e1f4-c70364cee331"
      },
      "source": [
        "res_features_train = resnet_pretrained.predict(train,verbose=1)\n"
      ],
      "execution_count": 7,
      "outputs": [
        {
          "output_type": "stream",
          "text": [
            "79/79 [==============================] - 965s 12s/step\n"
          ],
          "name": "stdout"
        }
      ]
    },
    {
      "cell_type": "code",
      "metadata": {
        "colab": {
          "base_uri": "https://localhost:8080/"
        },
        "id": "KxnECvBczw6N",
        "outputId": "ef7b747a-c6a1-44f3-e620-bef3892040dc"
      },
      "source": [
        "res_features_val = resnet_pretrained.predict(val,verbose=1)"
      ],
      "execution_count": 8,
      "outputs": [
        {
          "output_type": "stream",
          "text": [
            "16/16 [==============================] - 201s 12s/step\n"
          ],
          "name": "stdout"
        }
      ]
    },
    {
      "cell_type": "code",
      "metadata": {
        "id": "P-IbWMtxoSzb"
      },
      "source": [
        "def resnet_model():\n",
        "  #Only the final Dense Portion of the model\n",
        "\n",
        "  model = Sequential()\n",
        "  model.add(Flatten(input_shape=(7,7,2048)))\n",
        "  model.add(Dense(100, activation='relu'))\n",
        "  model.add(Dropout(0.5))\n",
        "  #Normalize Output of Previous Layer for a batch\n",
        "  # Tackles values getting too large and too small\n",
        "  model.add(BatchNormalization())\n",
        "  model.add(Dense(10,activation='softmax'))\n",
        "\n",
        "  model.compile(loss='categorical_crossentropy',\n",
        "                optimizer='adam',\n",
        "                metrics=['accuracy'])\n",
        "  return model"
      ],
      "execution_count": 13,
      "outputs": []
    },
    {
      "cell_type": "code",
      "metadata": {
        "colab": {
          "base_uri": "https://localhost:8080/"
        },
        "id": "-WYhHFKDoZeV",
        "outputId": "eb5b33e2-06aa-4f61-cf60-837e6a7e743c"
      },
      "source": [
        "resnet_last_layer = resnet_model()\n",
        "resnet_last_layer.fit(res_features_train, \n",
        "              train_target,\n",
        "              epochs=20,\n",
        "              validation_data=(res_features_val,val_target),\n",
        "              verbose=1)"
      ],
      "execution_count": 18,
      "outputs": [
        {
          "output_type": "stream",
          "text": [
            "Epoch 1/20\n",
            "313/313 [==============================] - 22s 66ms/step - loss: 1.0011 - accuracy: 0.6997 - val_loss: 0.1367 - val_accuracy: 0.9755\n",
            "Epoch 2/20\n",
            "313/313 [==============================] - 21s 66ms/step - loss: 0.1935 - accuracy: 0.9652 - val_loss: 0.0889 - val_accuracy: 0.9780\n",
            "Epoch 3/20\n",
            "313/313 [==============================] - 20s 65ms/step - loss: 0.1029 - accuracy: 0.9825 - val_loss: 0.0664 - val_accuracy: 0.9840\n",
            "Epoch 4/20\n",
            "313/313 [==============================] - 20s 65ms/step - loss: 0.0729 - accuracy: 0.9861 - val_loss: 0.0574 - val_accuracy: 0.9835\n",
            "Epoch 5/20\n",
            "313/313 [==============================] - 20s 65ms/step - loss: 0.0556 - accuracy: 0.9874 - val_loss: 0.0715 - val_accuracy: 0.9825\n",
            "Epoch 6/20\n",
            "313/313 [==============================] - 20s 65ms/step - loss: 0.0473 - accuracy: 0.9891 - val_loss: 0.0544 - val_accuracy: 0.9805\n",
            "Epoch 7/20\n",
            "313/313 [==============================] - 20s 65ms/step - loss: 0.0496 - accuracy: 0.9869 - val_loss: 0.0477 - val_accuracy: 0.9865\n",
            "Epoch 8/20\n",
            "313/313 [==============================] - 20s 65ms/step - loss: 0.0323 - accuracy: 0.9924 - val_loss: 0.0619 - val_accuracy: 0.9795\n",
            "Epoch 9/20\n",
            "313/313 [==============================] - 20s 65ms/step - loss: 0.0354 - accuracy: 0.9902 - val_loss: 0.0534 - val_accuracy: 0.9850\n",
            "Epoch 10/20\n",
            "313/313 [==============================] - 20s 65ms/step - loss: 0.0357 - accuracy: 0.9915 - val_loss: 0.0492 - val_accuracy: 0.9840\n",
            "Epoch 11/20\n",
            "313/313 [==============================] - 20s 65ms/step - loss: 0.0301 - accuracy: 0.9911 - val_loss: 0.0462 - val_accuracy: 0.9880\n",
            "Epoch 12/20\n",
            "313/313 [==============================] - 20s 65ms/step - loss: 0.0252 - accuracy: 0.9933 - val_loss: 0.0612 - val_accuracy: 0.9815\n",
            "Epoch 13/20\n",
            "313/313 [==============================] - 20s 65ms/step - loss: 0.0318 - accuracy: 0.9883 - val_loss: 0.0524 - val_accuracy: 0.9815\n",
            "Epoch 14/20\n",
            "313/313 [==============================] - 20s 65ms/step - loss: 0.0370 - accuracy: 0.9874 - val_loss: 0.0575 - val_accuracy: 0.9825\n",
            "Epoch 15/20\n",
            "313/313 [==============================] - 20s 65ms/step - loss: 0.0334 - accuracy: 0.9895 - val_loss: 0.0520 - val_accuracy: 0.9825\n",
            "Epoch 16/20\n",
            "313/313 [==============================] - 20s 65ms/step - loss: 0.0321 - accuracy: 0.9911 - val_loss: 0.0420 - val_accuracy: 0.9815\n",
            "Epoch 17/20\n",
            "313/313 [==============================] - 20s 65ms/step - loss: 0.0335 - accuracy: 0.9901 - val_loss: 0.0577 - val_accuracy: 0.9775\n",
            "Epoch 18/20\n",
            "313/313 [==============================] - 20s 65ms/step - loss: 0.0262 - accuracy: 0.9913 - val_loss: 0.0419 - val_accuracy: 0.9840\n",
            "Epoch 19/20\n",
            "313/313 [==============================] - 20s 65ms/step - loss: 0.0266 - accuracy: 0.9925 - val_loss: 0.0469 - val_accuracy: 0.9815\n",
            "Epoch 20/20\n",
            "313/313 [==============================] - 20s 65ms/step - loss: 0.0231 - accuracy: 0.9928 - val_loss: 0.0559 - val_accuracy: 0.9800\n"
          ],
          "name": "stdout"
        },
        {
          "output_type": "execute_result",
          "data": {
            "text/plain": [
              "<tensorflow.python.keras.callbacks.History at 0x7f2bf44ad890>"
            ]
          },
          "metadata": {
            "tags": []
          },
          "execution_count": 18
        }
      ]
    },
    {
      "cell_type": "code",
      "metadata": {
        "id": "y5dI53Am5FPu"
      },
      "source": [
        ""
      ],
      "execution_count": null,
      "outputs": []
    }
  ]
}